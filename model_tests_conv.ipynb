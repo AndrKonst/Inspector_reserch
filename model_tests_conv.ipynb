{
 "cells": [
  {
   "cell_type": "code",
   "execution_count": 1,
   "metadata": {},
   "outputs": [],
   "source": [
    "import pandas as pd\n",
    "import matplotlib.pyplot as plt\n",
    "import seaborn as sns\n",
    "from tensorflow import keras\n",
    "from tensorflow.keras import layers\n",
    "from tensorflow.keras import Sequential\n",
    "from tensorflow.keras.layers import Dense\n",
    "from tensorflow.keras.wrappers.scikit_learn import KerasClassifier\n",
    "from tensorflow.keras.callbacks import EarlyStopping\n",
    "from sklearn.model_selection import train_test_split\n",
    "from sklearn.metrics import confusion_matrix, precision_recall_fscore_support, accuracy_score\n",
    "from sklearn.pipeline import Pipeline\n",
    "from sklearn.model_selection import GridSearchCV\n",
    "from sklearn.preprocessing import StandardScaler\n",
    "from sklearn.base import BaseEstimator, ClassifierMixin\n",
    "from sklearn.model_selection import RandomizedSearchCV\n",
    "from itertools import combinations\n",
    "import numpy as np\n",
    "from math import ceil\n",
    "SEED = 25\n"
   ]
  },
  {
   "cell_type": "code",
   "execution_count": 2,
   "metadata": {},
   "outputs": [
    {
     "data": {
      "text/html": [
       "<div>\n",
       "<style scoped>\n",
       "    .dataframe tbody tr th:only-of-type {\n",
       "        vertical-align: middle;\n",
       "    }\n",
       "\n",
       "    .dataframe tbody tr th {\n",
       "        vertical-align: top;\n",
       "    }\n",
       "\n",
       "    .dataframe thead th {\n",
       "        text-align: right;\n",
       "    }\n",
       "</style>\n",
       "<table border=\"1\" class=\"dataframe\">\n",
       "  <thead>\n",
       "    <tr style=\"text-align: right;\">\n",
       "      <th></th>\n",
       "      <th>av_depth</th>\n",
       "      <th>max_depth</th>\n",
       "      <th>min_depth</th>\n",
       "      <th>num_acl</th>\n",
       "      <th>num_rel_cl</th>\n",
       "      <th>num_advcl</th>\n",
       "      <th>num_sent</th>\n",
       "      <th>num_tok</th>\n",
       "      <th>av_tok_before_root</th>\n",
       "      <th>av_len_sent</th>\n",
       "      <th>...</th>\n",
       "      <th>num_linkings</th>\n",
       "      <th>num_4grams</th>\n",
       "      <th>num_func_ngrams</th>\n",
       "      <th>num_shell_noun</th>\n",
       "      <th>num_misspelled_tokens</th>\n",
       "      <th>million_mistake</th>\n",
       "      <th>text</th>\n",
       "      <th>class</th>\n",
       "      <th>type</th>\n",
       "      <th>sum_punct</th>\n",
       "    </tr>\n",
       "  </thead>\n",
       "  <tbody>\n",
       "    <tr>\n",
       "      <th>0</th>\n",
       "      <td>3.56</td>\n",
       "      <td>6</td>\n",
       "      <td>2</td>\n",
       "      <td>2</td>\n",
       "      <td>0</td>\n",
       "      <td>1</td>\n",
       "      <td>18</td>\n",
       "      <td>244</td>\n",
       "      <td>4.39</td>\n",
       "      <td>13.56</td>\n",
       "      <td>...</td>\n",
       "      <td>5</td>\n",
       "      <td>1</td>\n",
       "      <td>0</td>\n",
       "      <td>0</td>\n",
       "      <td>2</td>\n",
       "      <td>0</td>\n",
       "      <td>This two line graphs illustrates monthly avera...</td>\n",
       "      <td>6</td>\n",
       "      <td>1</td>\n",
       "      <td>0</td>\n",
       "    </tr>\n",
       "    <tr>\n",
       "      <th>1</th>\n",
       "      <td>5.43</td>\n",
       "      <td>10</td>\n",
       "      <td>4</td>\n",
       "      <td>1</td>\n",
       "      <td>3</td>\n",
       "      <td>1</td>\n",
       "      <td>7</td>\n",
       "      <td>175</td>\n",
       "      <td>6.29</td>\n",
       "      <td>25.00</td>\n",
       "      <td>...</td>\n",
       "      <td>6</td>\n",
       "      <td>1</td>\n",
       "      <td>0</td>\n",
       "      <td>0</td>\n",
       "      <td>3</td>\n",
       "      <td>0</td>\n",
       "      <td>﻿We have two graphics, which show us the popul...</td>\n",
       "      <td>6</td>\n",
       "      <td>1</td>\n",
       "      <td>0</td>\n",
       "    </tr>\n",
       "  </tbody>\n",
       "</table>\n",
       "<p>2 rows × 62 columns</p>\n",
       "</div>"
      ],
      "text/plain": [
       "   av_depth  max_depth  min_depth  num_acl  num_rel_cl  num_advcl  num_sent  \\\n",
       "0      3.56          6          2        2           0          1        18   \n",
       "1      5.43         10          4        1           3          1         7   \n",
       "\n",
       "   num_tok  av_tok_before_root  av_len_sent  ...  num_linkings  num_4grams  \\\n",
       "0      244                4.39        13.56  ...             5           1   \n",
       "1      175                6.29        25.00  ...             6           1   \n",
       "\n",
       "   num_func_ngrams  num_shell_noun  num_misspelled_tokens  million_mistake  \\\n",
       "0                0               0                      2                0   \n",
       "1                0               0                      3                0   \n",
       "\n",
       "                                                text  class  type  sum_punct  \n",
       "0  This two line graphs illustrates monthly avera...      6     1          0  \n",
       "1  ﻿We have two graphics, which show us the popul...      6     1          0  \n",
       "\n",
       "[2 rows x 62 columns]"
      ]
     },
     "execution_count": 2,
     "metadata": {},
     "output_type": "execute_result"
    }
   ],
   "source": [
    "df = pd.read_csv(r'D:\\hse_iot\\VKR\\my_inspector\\data\\classification_dataset.csv')\n",
    "df['class'] = round(df['class'] / 10).astype(int)\n",
    "df = df[df['class'] != 1]\n",
    "_type = df['type'].to_list()\n",
    "df = df.drop(['name', 'side_mistake',\n",
    "              'vs', 'squared_vs', 'ttr', 'root_ttr',\n",
    "              'log_ttr', 'uber_ttr', 'd', 'vvi',\n",
    "              'squared_vv', 'punct_mistakes_pp',\n",
    "              'punct_mistakes_because',\n",
    "              'punct_mistakes_but', 'punct_mistakes_compare'], axis=1)\n",
    "\n",
    "df.head(2)"
   ]
  },
  {
   "cell_type": "code",
   "execution_count": 3,
   "metadata": {},
   "outputs": [
    {
     "data": {
      "text/plain": [
       "(3440, 62)"
      ]
     },
     "execution_count": 3,
     "metadata": {},
     "output_type": "execute_result"
    }
   ],
   "source": [
    "df.shape"
   ]
  },
  {
   "cell_type": "code",
   "execution_count": 4,
   "metadata": {},
   "outputs": [
    {
     "name": "stdout",
     "output_type": "stream",
     "text": [
      "<class 'pandas.core.frame.DataFrame'>\n",
      "Int64Index: 3440 entries, 0 to 3440\n",
      "Data columns (total 62 columns):\n",
      " #   Column                 Non-Null Count  Dtype  \n",
      "---  ------                 --------------  -----  \n",
      " 0   av_depth               3440 non-null   float64\n",
      " 1   max_depth              3440 non-null   int64  \n",
      " 2   min_depth              3440 non-null   int64  \n",
      " 3   num_acl                3440 non-null   int64  \n",
      " 4   num_rel_cl             3440 non-null   int64  \n",
      " 5   num_advcl              3440 non-null   int64  \n",
      " 6   num_sent               3440 non-null   int64  \n",
      " 7   num_tok                3440 non-null   int64  \n",
      " 8   av_tok_before_root     3440 non-null   float64\n",
      " 9   av_len_sent            3440 non-null   float64\n",
      " 10  num_cl                 3440 non-null   int64  \n",
      " 11  num_tu                 3440 non-null   int64  \n",
      " 12  num_compl_tu           3440 non-null   int64  \n",
      " 13  num_coord              3440 non-null   int64  \n",
      " 14  num_poss               3440 non-null   int64  \n",
      " 15  num_prep               3440 non-null   int64  \n",
      " 16  num_adj_noun           3440 non-null   int64  \n",
      " 17  num_part_noun          3440 non-null   int64  \n",
      " 18  num_noun_inf           3440 non-null   int64  \n",
      " 19  pos_sim_nei            3440 non-null   float64\n",
      " 20  pos_sim_all            3440 non-null   float64\n",
      " 21  lemma_sim_all          3440 non-null   float64\n",
      " 22  lemma_sim_nei          3440 non-null   float64\n",
      " 23  density                3440 non-null   float64\n",
      " 24  ls                     3440 non-null   float64\n",
      " 25  corrected_vs           3440 non-null   float64\n",
      " 26  lfp_1000               3440 non-null   float64\n",
      " 27  lfp_2000               3440 non-null   float64\n",
      " 28  lfp_uwl                3440 non-null   float64\n",
      " 29  lfp_rest               3440 non-null   float64\n",
      " 30  ndw                    3440 non-null   int64  \n",
      " 31  corrected_ttr          3440 non-null   float64\n",
      " 32  lv                     3440 non-null   float64\n",
      " 33  corrected_vv           3440 non-null   float64\n",
      " 34  vvii                   3440 non-null   float64\n",
      " 35  nv                     3440 non-null   float64\n",
      " 36  adjv                   3440 non-null   float64\n",
      " 37  advv                   3440 non-null   float64\n",
      " 38  modv                   3440 non-null   float64\n",
      " 39  der_level3             3440 non-null   float64\n",
      " 40  der_level4             3440 non-null   float64\n",
      " 41  der_level5             3440 non-null   float64\n",
      " 42  der_level6             3440 non-null   float64\n",
      " 43  mci                    3440 non-null   float64\n",
      " 44  freq_finite_forms      3440 non-null   float64\n",
      " 45  freq_aux               3440 non-null   float64\n",
      " 46  num_inf                3440 non-null   int64  \n",
      " 47  num_gerunds            3440 non-null   int64  \n",
      " 48  num_pres_sing          3440 non-null   int64  \n",
      " 49  num_pres_plur          3440 non-null   int64  \n",
      " 50  num_past_part          3440 non-null   int64  \n",
      " 51  num_past_simple        3440 non-null   int64  \n",
      " 52  num_linkings           3440 non-null   int64  \n",
      " 53  num_4grams             3440 non-null   int64  \n",
      " 54  num_func_ngrams        3440 non-null   int64  \n",
      " 55  num_shell_noun         3440 non-null   int64  \n",
      " 56  num_misspelled_tokens  3440 non-null   int64  \n",
      " 57  million_mistake        3440 non-null   int64  \n",
      " 58  text                   3440 non-null   object \n",
      " 59  class                  3440 non-null   int32  \n",
      " 60  type                   3440 non-null   int64  \n",
      " 61  sum_punct              3440 non-null   int64  \n",
      "dtypes: float64(29), int32(1), int64(31), object(1)\n",
      "memory usage: 1.6+ MB\n"
     ]
    }
   ],
   "source": [
    "df.info()"
   ]
  },
  {
   "cell_type": "code",
   "execution_count": 5,
   "metadata": {},
   "outputs": [
    {
     "data": {
      "text/plain": [
       "6    2680\n",
       "7     308\n",
       "5     215\n",
       "4     122\n",
       "8      77\n",
       "2      24\n",
       "3      14\n",
       "Name: class, dtype: int64"
      ]
     },
     "execution_count": 5,
     "metadata": {},
     "output_type": "execute_result"
    }
   ],
   "source": [
    "df['class'].value_counts()"
   ]
  },
  {
   "cell_type": "code",
   "execution_count": 6,
   "metadata": {},
   "outputs": [
    {
     "data": {
      "image/png": "[encoded data removed]",
      "text/plain": [
       "<Figure size 1440x720 with 1 Axes>"
      ]
     },
     "metadata": {},
     "output_type": "display_data"
    }
   ],
   "source": [
    "sns.set(rc={'figure.figsize':(20,10)})\n",
    "sns_plt = sns.countplot(x='class', data=df, palette=\"Set2\")"
   ]
  },
  {
   "cell_type": "code",
   "execution_count": 7,
   "metadata": {},
   "outputs": [],
   "source": [
    "feature_columns = [col for col in df.columns if col not in ['class', 'name', 'text', 'type']]\n",
    "X = df[feature_columns]\n",
    "y = df['class'] - 2\n",
    "y.loc[y == 1] = 3\n",
    "y.loc[y == 0] = 3\n",
    "y.loc[y == 2] = 3\n",
    "y.loc[y == 5] = 6\n",
    "\n",
    "y.loc[y == 3] = 0\n",
    "y.loc[y == 4] = 1\n",
    "y.loc[y == 6] = 2"
   ]
  },
  {
   "cell_type": "code",
   "execution_count": 8,
   "metadata": {},
   "outputs": [],
   "source": [
    "train_x, test_x, train_y, test_y = train_test_split(X, y, test_size=0.2, random_state = SEED)"
   ]
  },
  {
   "cell_type": "markdown",
   "metadata": {},
   "source": [
    "Так как количество элементов в классах не равномерно то объединим классы 2,3,4,5; 7, 8; и уберем часть элементов из 6 класса"
   ]
  },
  {
   "cell_type": "code",
   "execution_count": 9,
   "metadata": {},
   "outputs": [
    {
     "data": {
      "text/plain": [
       "1    2139\n",
       "2     322\n",
       "0     291\n",
       "Name: class, dtype: int64"
      ]
     },
     "execution_count": 9,
     "metadata": {},
     "output_type": "execute_result"
    }
   ],
   "source": [
    "\n",
    "train_y.value_counts()"
   ]
  },
  {
   "cell_type": "code",
   "execution_count": 10,
   "metadata": {},
   "outputs": [
    {
     "data": {
      "text/plain": [
       "2    322\n",
       "1    315\n",
       "0    291\n",
       "Name: class, dtype: int64"
      ]
     },
     "execution_count": 10,
     "metadata": {},
     "output_type": "execute_result"
    }
   ],
   "source": [
    "dummy = train_y.loc[train_y == 1][:315]\n",
    "train_y.drop(train_y.loc[train_y == 1].index, inplace=True)\n",
    "train_y = pd.concat([train_y, dummy], ignore_index=True)\n",
    "train_y.value_counts()"
   ]
  },
  {
   "cell_type": "code",
   "execution_count": 11,
   "metadata": {},
   "outputs": [],
   "source": [
    "y_idx = train_y.index\n",
    "train_x = train_x.iloc[y_idx.to_list()]\n",
    "train_x.reset_index(inplace=True, drop=True)\n",
    "test_x.reset_index(inplace=True, drop=True)\n",
    "train_y = train_y.reset_index(drop=True)\n",
    "test_y = test_y.reset_index(drop=True)"
   ]
  },
  {
   "cell_type": "code",
   "execution_count": 12,
   "metadata": {},
   "outputs": [],
   "source": [
    "train_y2 = []\n",
    "for y in train_y:\n",
    "    y2 = np.zeros(3)\n",
    "    y2[y] = 1\n",
    "    train_y2.append(y2)\n",
    "    \n",
    "test_y2 = []\n",
    "for y in test_y:\n",
    "    y2 = np.zeros(3)\n",
    "    y2[y] = 1\n",
    "    test_y2.append(y2)\n",
    "    \n",
    "train_y2 = np.array(train_y2)\n",
    "test_y2 = np.array(test_y2)"
   ]
  },
  {
   "cell_type": "code",
   "execution_count": 13,
   "metadata": {},
   "outputs": [],
   "source": [
    "from sklearn.metrics import make_scorer, accuracy_score\n",
    "def custom_scorer(y_true, y_pred):\n",
    "    y_true = [np.argmax(y) for y in y_true]\n",
    "    y_true = np.array(y_true)\n",
    "    return accuracy_score(y_true, y_pred)\n",
    "scorer = make_scorer(custom_scorer, greater_is_better=True)"
   ]
  },
  {
   "cell_type": "code",
   "execution_count": 14,
   "metadata": {},
   "outputs": [],
   "source": [
    "train_x2 = np.array(train_x)\n",
    "test_x2 = np.array(test_x)"
   ]
  },
  {
   "cell_type": "code",
   "execution_count": 15,
   "metadata": {},
   "outputs": [],
   "source": [
    "train_x3 = train_x2.reshape(-1, 59, 1)\n",
    "test_x3 = test_x2.reshape(-1, 59, 1)"
   ]
  },
  {
   "cell_type": "code",
   "execution_count": 16,
   "metadata": {},
   "outputs": [],
   "source": [
    "def create_model_conv(neurons1=None, neurons2=None, neurons3=None, core=3, activation=\"relu\", optimizer='Adam', loss=keras.losses.MeanSquaredError()):\n",
    "    model = keras.Sequential()\n",
    "    if neurons1:\n",
    "        model.add(layers.Conv1D(neurons1, core, activation=activation))\n",
    "    if neurons2:\n",
    "        model.add(layers.Conv1D(neurons2, core, activation=activation))\n",
    "    if neurons3:\n",
    "        model.add(layers.Conv1D(neurons3, core, activation=activation))\n",
    "    model.add(layers.Flatten())\n",
    "    model.add(Dense(3, activation=\"softmax\"))\n",
    "    model.compile(optimizer=optimizer, \n",
    "                  loss=loss,\n",
    "                  metrics=[keras.metrics.categorical_accuracy]\n",
    "         )\n",
    "    return model"
   ]
  },
  {
   "cell_type": "code",
   "execution_count": 18,
   "metadata": {},
   "outputs": [
    {
     "data": {
      "text/plain": [
       "{'neurons1': [8, 16, 32, 64],\n",
       " 'neurons2': [8, 16, 32, 64],\n",
       " 'neurons3': [8, 16, 32, 64],\n",
       " 'core': [3, 4, 5, 10],\n",
       " 'activation': ['relu', 'tanh'],\n",
       " 'optimizer': ['Adam', 'SGD'],\n",
       " 'loss': ['mse'],\n",
       " 'batch_size': [5, 10, 15, 20]}"
      ]
     },
     "execution_count": 18,
     "metadata": {},
     "output_type": "execute_result"
    }
   ],
   "source": [
    "neurons1 = [2**i for i in range(3, 7)]\n",
    "neurons2 = [2**i for i in range(3, 7)]\n",
    "neurons3 = [2**i for i in range(3, 7)]\n",
    "core = [3, 4, 5, 10]\n",
    "activation = [\"relu\", \"tanh\"]\n",
    "optimizer = ['Adam', 'SGD']\n",
    "loss = ['mse']\n",
    "batch_size= [5, 10, 15, 20]\n",
    "\n",
    "param_grid_conv = dict(neurons1=neurons1, \n",
    "                  neurons2=neurons2, \n",
    "                  neurons3=neurons3,\n",
    "                  core=core,\n",
    "                  activation=activation, \n",
    "                  optimizer=optimizer,\n",
    "                  loss=loss,\n",
    "                  batch_size=batch_size)\n",
    "param_grid_conv"
   ]
  },
  {
   "cell_type": "code",
   "execution_count": 20,
   "metadata": {},
   "outputs": [],
   "source": [
    "model_conv = KerasClassifier(build_fn=create_model_conv)"
   ]
  },
  {
   "cell_type": "code",
   "execution_count": 22,
   "metadata": {},
   "outputs": [],
   "source": [
    "def first_round_search(est, param_grid, num_iter=100):\n",
    "    early_stopping = EarlyStopping(monitor='categorical_accuracy', patience=5)\n",
    "    grid_conv = RandomizedSearchCV(estimator=model_conv,\n",
    "                               param_distributions=param_grid_conv,\n",
    "                               n_iter = num_iter,\n",
    "                               scoring=scorer,\n",
    "                               verbose=1,\n",
    "                               cv=5,\n",
    "                               n_jobs=-1)\n",
    "    grid_result = grid_conv.fit(train_x3, train_y2, callbacks=[early_stopping], epochs=100)\n",
    "    rs_df = pd.DataFrame(grid_result.cv_results_).sort_values('rank_test_score').reset_index(drop=True)\n",
    "    rs_df = rs_df.drop([\n",
    "            'mean_fit_time', \n",
    "            'std_fit_time', \n",
    "            'mean_score_time',\n",
    "            'std_score_time', \n",
    "            'params',\n",
    "            'split0_test_score', \n",
    "            'split1_test_score', \n",
    "            'split2_test_score', \n",
    "            'std_test_score'],\n",
    "            axis=1)\n",
    "    params_labels = [param for param in rs_df.columns if 'param' in param]\n",
    "    \n",
    "    cols = ceil(np.sqrt(len(params_labels)))\n",
    "    lines = ceil(len(params_labels)/cols)\n",
    "    fig, axs = plt.subplots(ncols=cols, nrows=lines)\n",
    "    sns.set(style=\"whitegrid\", color_codes=True, font_scale = 2)\n",
    "    fig.set_size_inches(30,30)\n",
    "    \n",
    "    col = 0\n",
    "    line = 0\n",
    "    for param in params_labels:\n",
    "        sns.barplot(x=param, y='mean_test_score', data=rs_df, ax=axs[line, col])\n",
    "        axs[line, col].set_ylim([rs_df.groupby(param).mean()['mean_test_score'].min()*0.95,\n",
    "                                 rs_df.groupby(param).mean()['mean_test_score'].max()*1.05])\n",
    "        axs[line, col].set_title(label = param.replace('param_', ''), size=25, weight='bold')\n",
    "        \n",
    "        if col < cols - 1:\n",
    "            col += 1\n",
    "        else:\n",
    "            line += 1\n",
    "            col = 0\n",
    "    "
   ]
  },
  {
   "cell_type": "code",
   "execution_count": 26,
   "metadata": {},
   "outputs": [
    {
     "name": "stdout",
     "output_type": "stream",
     "text": [
      "Fitting 5 folds for each of 300 candidates, totalling 1500 fits\n"
     ]
    },
    {
     "name": "stderr",
     "output_type": "stream",
     "text": [
      "[Parallel(n_jobs=-1)]: Using backend LokyBackend with 12 concurrent workers.\n",
      "[Parallel(n_jobs=-1)]: Done  26 tasks      | elapsed:   40.5s\n",
      "[Parallel(n_jobs=-1)]: Done 176 tasks      | elapsed:  4.8min\n",
      "[Parallel(n_jobs=-1)]: Done 426 tasks      | elapsed: 12.8min\n",
      "[Parallel(n_jobs=-1)]: Done 776 tasks      | elapsed: 22.8min\n",
      "[Parallel(n_jobs=-1)]: Done 1226 tasks      | elapsed: 35.4min\n",
      "[Parallel(n_jobs=-1)]: Done 1500 out of 1500 | elapsed: 43.6min finished\n"
     ]
    },
    {
     "name": "stdout",
     "output_type": "stream",
     "text": [
      "Epoch 1/100\n",
      "47/47 [==============================] - 0s 4ms/step - loss: 0.4228 - categorical_accuracy: 0.3481\n",
      "Epoch 2/100\n",
      "47/47 [==============================] - 0s 3ms/step - loss: 0.4243 - categorical_accuracy: 0.3438\n",
      "Epoch 3/100\n",
      "47/47 [==============================] - 0s 2ms/step - loss: 0.4377 - categorical_accuracy: 0.3351\n",
      "Epoch 4/100\n",
      "47/47 [==============================] - 0s 2ms/step - loss: 0.4318 - categorical_accuracy: 0.3438\n",
      "Epoch 5/100\n",
      "47/47 [==============================] - 0s 2ms/step - loss: 0.4140 - categorical_accuracy: 0.3405\n",
      "Epoch 6/100\n",
      "47/47 [==============================] - 0s 3ms/step - loss: 0.3496 - categorical_accuracy: 0.3534\n",
      "Epoch 7/100\n",
      "47/47 [==============================] - 0s 2ms/step - loss: 0.2643 - categorical_accuracy: 0.3567\n",
      "Epoch 8/100\n",
      "47/47 [==============================] - 0s 3ms/step - loss: 0.2339 - categorical_accuracy: 0.3545\n",
      "Epoch 9/100\n",
      "47/47 [==============================] - 0s 2ms/step - loss: 0.2267 - categorical_accuracy: 0.3416\n",
      "Epoch 10/100\n",
      "47/47 [==============================] - 0s 2ms/step - loss: 0.2286 - categorical_accuracy: 0.3373\n",
      "Epoch 11/100\n",
      "47/47 [==============================] - 0s 2ms/step - loss: 0.2258 - categorical_accuracy: 0.3459\n",
      "Epoch 12/100\n",
      "47/47 [==============================] - 0s 2ms/step - loss: 0.2237 - categorical_accuracy: 0.3438\n"
     ]
    },
    {
     "data": {
      "image/png": "[encoded data removed]",
      "text/plain": [
       "<Figure size 2160x2160 with 9 Axes>"
      ]
     },
     "metadata": {},
     "output_type": "display_data"
    }
   ],
   "source": [
    "first_round_search(KerasClassifier(build_fn=create_model_conv), param_grid_conv, 300)"
   ]
  },
  {
   "cell_type": "code",
   "execution_count": 36,
   "metadata": {},
   "outputs": [
    {
     "data": {
      "text/plain": [
       "{'neurons1': [12, 14, 16, 18, 20, 22, 24],\n",
       " 'neurons2': [25, 27, 29, 31, 33, 35, 37, 39],\n",
       " 'neurons3': [25, 29, 33, 37, 41, 45, 49, 53, 57, 61, 65, 69, 73, 77],\n",
       " 'core': [4],\n",
       " 'activation': ['tanh'],\n",
       " 'optimizer': ['Adam'],\n",
       " 'loss': ['mse'],\n",
       " 'batch_size': [5]}"
      ]
     },
     "execution_count": 36,
     "metadata": {},
     "output_type": "execute_result"
    }
   ],
   "source": [
    "neurons1 = [i for i in range(12, 25, 2)]\n",
    "neurons2 = [i for i in range(25, 40, 2)]\n",
    "neurons3 = [i for i in range(25, 80, 4)]\n",
    "core = [4,]\n",
    "activation = ['tanh',]\n",
    "optimizer = ['Adam',]\n",
    "loss = ['mse']\n",
    "batch_size= [5,]\n",
    "\n",
    "param_grid_conv = dict(neurons1=neurons1, \n",
    "                  neurons2=neurons2, \n",
    "                  neurons3=neurons3,\n",
    "                  core=core,\n",
    "                  activation=activation, \n",
    "                  optimizer=optimizer,\n",
    "                  loss=loss,\n",
    "                  batch_size=batch_size)\n",
    "param_grid_conv"
   ]
  },
  {
   "cell_type": "code",
   "execution_count": 37,
   "metadata": {},
   "outputs": [
    {
     "name": "stdout",
     "output_type": "stream",
     "text": [
      "Fitting 5 folds for each of 784 candidates, totalling 3920 fits\n"
     ]
    },
    {
     "name": "stderr",
     "output_type": "stream",
     "text": [
      "[Parallel(n_jobs=-1)]: Using backend LokyBackend with 12 concurrent workers.\n",
      "[Parallel(n_jobs=-1)]: Done  26 tasks      | elapsed:  2.0min\n",
      "[Parallel(n_jobs=-1)]: Done 176 tasks      | elapsed: 10.6min\n",
      "[Parallel(n_jobs=-1)]: Done 426 tasks      | elapsed: 23.6min\n",
      "[Parallel(n_jobs=-1)]: Done 776 tasks      | elapsed: 42.0min\n",
      "[Parallel(n_jobs=-1)]: Done 1226 tasks      | elapsed: 67.8min\n",
      "[Parallel(n_jobs=-1)]: Done 1776 tasks      | elapsed: 101.4min\n",
      "[Parallel(n_jobs=-1)]: Done 2426 tasks      | elapsed: 141.5min\n",
      "[Parallel(n_jobs=-1)]: Done 3176 tasks      | elapsed: 189.7min\n",
      "[Parallel(n_jobs=-1)]: Done 3920 out of 3920 | elapsed: 240.1min finished\n"
     ]
    },
    {
     "name": "stdout",
     "output_type": "stream",
     "text": [
      "Epoch 1/200\n",
      "186/186 [==============================] - 1s 3ms/step - loss: 0.2653 - categorical_accuracy: 0.3330\n",
      "Epoch 2/200\n",
      "186/186 [==============================] - 0s 3ms/step - loss: 0.2305 - categorical_accuracy: 0.3545\n",
      "Epoch 3/200\n",
      "186/186 [==============================] - 0s 3ms/step - loss: 0.2275 - categorical_accuracy: 0.3858\n",
      "Epoch 4/200\n",
      "186/186 [==============================] - 0s 2ms/step - loss: 0.2282 - categorical_accuracy: 0.3761\n",
      "Epoch 5/200\n",
      "186/186 [==============================] - 0s 2ms/step - loss: 0.2316 - categorical_accuracy: 0.3599\n",
      "Epoch 6/200\n",
      "186/186 [==============================] - 0s 2ms/step - loss: 0.2220 - categorical_accuracy: 0.4149\n",
      "Epoch 7/200\n",
      "186/186 [==============================] - 0s 2ms/step - loss: 0.2220 - categorical_accuracy: 0.4009\n",
      "Epoch 8/200\n",
      "186/186 [==============================] - 0s 2ms/step - loss: 0.2245 - categorical_accuracy: 0.3750\n",
      "Epoch 9/200\n",
      "186/186 [==============================] - 0s 2ms/step - loss: 0.2190 - categorical_accuracy: 0.4203\n",
      "Epoch 10/200\n",
      "186/186 [==============================] - 0s 2ms/step - loss: 0.2211 - categorical_accuracy: 0.4019\n",
      "Epoch 11/200\n",
      "186/186 [==============================] - 0s 2ms/step - loss: 0.2200 - categorical_accuracy: 0.4267\n",
      "Epoch 12/200\n",
      "186/186 [==============================] - 0s 2ms/step - loss: 0.2192 - categorical_accuracy: 0.4062\n",
      "Epoch 13/200\n",
      "186/186 [==============================] - 0s 2ms/step - loss: 0.2204 - categorical_accuracy: 0.4256\n",
      "Epoch 14/200\n",
      "186/186 [==============================] - 0s 2ms/step - loss: 0.2212 - categorical_accuracy: 0.4224\n",
      "Epoch 15/200\n",
      "186/186 [==============================] - 0s 2ms/step - loss: 0.2172 - categorical_accuracy: 0.4278\n",
      "Epoch 16/200\n",
      "186/186 [==============================] - 0s 2ms/step - loss: 0.2173 - categorical_accuracy: 0.4235\n",
      "Epoch 17/200\n",
      "186/186 [==============================] - 0s 2ms/step - loss: 0.2171 - categorical_accuracy: 0.4310\n",
      "Epoch 18/200\n",
      "186/186 [==============================] - 0s 2ms/step - loss: 0.2165 - categorical_accuracy: 0.4407\n",
      "Epoch 19/200\n",
      "186/186 [==============================] - 0s 2ms/step - loss: 0.2183 - categorical_accuracy: 0.4203\n",
      "Epoch 20/200\n",
      "186/186 [==============================] - 0s 2ms/step - loss: 0.2179 - categorical_accuracy: 0.4138\n",
      "Epoch 21/200\n",
      "186/186 [==============================] - 0s 2ms/step - loss: 0.2148 - categorical_accuracy: 0.4612\n",
      "Epoch 22/200\n",
      "186/186 [==============================] - 0s 2ms/step - loss: 0.2157 - categorical_accuracy: 0.4623\n",
      "Epoch 23/200\n",
      "186/186 [==============================] - 0s 2ms/step - loss: 0.2116 - categorical_accuracy: 0.4644\n",
      "Epoch 24/200\n",
      "186/186 [==============================] - 0s 2ms/step - loss: 0.2166 - categorical_accuracy: 0.4440\n",
      "Epoch 25/200\n",
      "186/186 [==============================] - 0s 2ms/step - loss: 0.2161 - categorical_accuracy: 0.4246\n",
      "Epoch 26/200\n",
      "186/186 [==============================] - 0s 2ms/step - loss: 0.2163 - categorical_accuracy: 0.4429\n",
      "Epoch 27/200\n",
      "186/186 [==============================] - 0s 2ms/step - loss: 0.2137 - categorical_accuracy: 0.4612\n",
      "Epoch 28/200\n",
      "186/186 [==============================] - 0s 2ms/step - loss: 0.2108 - categorical_accuracy: 0.4634\n"
     ]
    }
   ],
   "source": [
    "early_stopping = EarlyStopping(monitor='categorical_accuracy', patience=5)\n",
    "grid_conv = GridSearchCV(estimator=model_conv,\n",
    "                               param_grid=param_grid_conv,\n",
    "                               scoring=scorer,\n",
    "                               verbose=1,\n",
    "                               cv=5,\n",
    "                               n_jobs=-1)\n",
    "grid_result_conv = grid_conv.fit(train_x3, train_y2, callbacks=[early_stopping], epochs=200)"
   ]
  },
  {
   "cell_type": "code",
   "execution_count": 42,
   "metadata": {},
   "outputs": [
    {
     "name": "stdout",
     "output_type": "stream",
     "text": [
      "Best: 0.433264 using {'activation': 'tanh', 'batch_size': 5, 'core': 4, 'loss': 'mse', 'neurons1': 20, 'neurons2': 39, 'neurons3': 61, 'optimizer': 'Adam'}\n"
     ]
    }
   ],
   "source": [
    "print(\"Best: %f using %s\" % (grid_result_conv.best_score_, grid_result_conv.best_params_))"
   ]
  },
  {
   "cell_type": "code",
   "execution_count": 43,
   "metadata": {},
   "outputs": [],
   "source": [
    "pred_y = grid_result_conv.best_estimator_.predict(test_x3)"
   ]
  },
  {
   "cell_type": "code",
   "execution_count": 44,
   "metadata": {},
   "outputs": [
    {
     "data": {
      "text/plain": [
       "array([[ 84,   0,   0],\n",
       "       [541,   0,   0],\n",
       "       [ 63,   0,   0]], dtype=int64)"
      ]
     },
     "execution_count": 44,
     "metadata": {},
     "output_type": "execute_result"
    }
   ],
   "source": [
    "pred_y = [np.argmax(y) for y in pred_y]\n",
    "pred_y = np.array(pred_y)\n",
    "confusion_matrix(test_y, pred_y)"
   ]
  },
  {
   "cell_type": "code",
   "execution_count": 45,
   "metadata": {},
   "outputs": [
    {
     "data": {
      "text/plain": [
       "0.12209302325581395"
      ]
     },
     "execution_count": 45,
     "metadata": {},
     "output_type": "execute_result"
    }
   ],
   "source": [
    "accuracy_score(test_y, pred_y)"
   ]
  },
  {
   "cell_type": "markdown",
   "metadata": {},
   "source": [
    "## Попробуем обучить модели на сгенерированных данных"
   ]
  },
  {
   "cell_type": "code",
   "execution_count": 2,
   "metadata": {},
   "outputs": [
    {
     "data": {
      "text/html": [
       "<div>\n",
       "<style scoped>\n",
       "    .dataframe tbody tr th:only-of-type {\n",
       "        vertical-align: middle;\n",
       "    }\n",
       "\n",
       "    .dataframe tbody tr th {\n",
       "        vertical-align: top;\n",
       "    }\n",
       "\n",
       "    .dataframe thead th {\n",
       "        text-align: right;\n",
       "    }\n",
       "</style>\n",
       "<table border=\"1\" class=\"dataframe\">\n",
       "  <thead>\n",
       "    <tr style=\"text-align: right;\">\n",
       "      <th></th>\n",
       "      <th>av_depth</th>\n",
       "      <th>max_depth</th>\n",
       "      <th>min_depth</th>\n",
       "      <th>num_acl</th>\n",
       "      <th>num_rel_cl</th>\n",
       "      <th>num_advcl</th>\n",
       "      <th>num_sent</th>\n",
       "      <th>num_tok</th>\n",
       "      <th>av_tok_before_root</th>\n",
       "      <th>av_len_sent</th>\n",
       "      <th>...</th>\n",
       "      <th>num_pres_sing</th>\n",
       "      <th>num_pres_plur</th>\n",
       "      <th>num_past_part</th>\n",
       "      <th>num_past_simple</th>\n",
       "      <th>num_linkings</th>\n",
       "      <th>num_4grams</th>\n",
       "      <th>num_func_ngrams</th>\n",
       "      <th>million_mistake</th>\n",
       "      <th>sum_punct</th>\n",
       "      <th>cls</th>\n",
       "    </tr>\n",
       "    <tr>\n",
       "      <th>idx</th>\n",
       "      <th></th>\n",
       "      <th></th>\n",
       "      <th></th>\n",
       "      <th></th>\n",
       "      <th></th>\n",
       "      <th></th>\n",
       "      <th></th>\n",
       "      <th></th>\n",
       "      <th></th>\n",
       "      <th></th>\n",
       "      <th></th>\n",
       "      <th></th>\n",
       "      <th></th>\n",
       "      <th></th>\n",
       "      <th></th>\n",
       "      <th></th>\n",
       "      <th></th>\n",
       "      <th></th>\n",
       "      <th></th>\n",
       "      <th></th>\n",
       "      <th></th>\n",
       "    </tr>\n",
       "  </thead>\n",
       "  <tbody>\n",
       "    <tr>\n",
       "      <th>0</th>\n",
       "      <td>3.69</td>\n",
       "      <td>7</td>\n",
       "      <td>2</td>\n",
       "      <td>2</td>\n",
       "      <td>2</td>\n",
       "      <td>0</td>\n",
       "      <td>13</td>\n",
       "      <td>189</td>\n",
       "      <td>4.23</td>\n",
       "      <td>14.54</td>\n",
       "      <td>...</td>\n",
       "      <td>7</td>\n",
       "      <td>0</td>\n",
       "      <td>2</td>\n",
       "      <td>4</td>\n",
       "      <td>6</td>\n",
       "      <td>3</td>\n",
       "      <td>1</td>\n",
       "      <td>0</td>\n",
       "      <td>0</td>\n",
       "      <td>4</td>\n",
       "    </tr>\n",
       "    <tr>\n",
       "      <th>1</th>\n",
       "      <td>3.93</td>\n",
       "      <td>7</td>\n",
       "      <td>2</td>\n",
       "      <td>1</td>\n",
       "      <td>3</td>\n",
       "      <td>1</td>\n",
       "      <td>15</td>\n",
       "      <td>244</td>\n",
       "      <td>4.80</td>\n",
       "      <td>16.27</td>\n",
       "      <td>...</td>\n",
       "      <td>14</td>\n",
       "      <td>0</td>\n",
       "      <td>3</td>\n",
       "      <td>0</td>\n",
       "      <td>13</td>\n",
       "      <td>2</td>\n",
       "      <td>0</td>\n",
       "      <td>0</td>\n",
       "      <td>0</td>\n",
       "      <td>4</td>\n",
       "    </tr>\n",
       "  </tbody>\n",
       "</table>\n",
       "<p>2 rows × 67 columns</p>\n",
       "</div>"
      ],
      "text/plain": [
       "     av_depth  max_depth  min_depth  num_acl  num_rel_cl  num_advcl  num_sent  \\\n",
       "idx                                                                             \n",
       "0        3.69          7          2        2           2          0        13   \n",
       "1        3.93          7          2        1           3          1        15   \n",
       "\n",
       "     num_tok  av_tok_before_root  av_len_sent  ...  num_pres_sing  \\\n",
       "idx                                            ...                  \n",
       "0        189                4.23        14.54  ...              7   \n",
       "1        244                4.80        16.27  ...             14   \n",
       "\n",
       "     num_pres_plur  num_past_part  num_past_simple  num_linkings  num_4grams  \\\n",
       "idx                                                                            \n",
       "0                0              2                4             6           3   \n",
       "1                0              3                0            13           2   \n",
       "\n",
       "     num_func_ngrams  million_mistake  sum_punct  cls  \n",
       "idx                                                    \n",
       "0                  1                0          0    4  \n",
       "1                  0                0          0    4  \n",
       "\n",
       "[2 rows x 67 columns]"
      ]
     },
     "execution_count": 2,
     "metadata": {},
     "output_type": "execute_result"
    }
   ],
   "source": [
    "df_gen = pd.read_csv(r'D:\\hse_iot\\VKR\\my_inspector\\data\\generated_data.csv', index_col='idx')\n",
    "df_gen.drop(['text',],  inplace=True, axis=1)\n",
    "df_gen.head(2)"
   ]
  },
  {
   "cell_type": "code",
   "execution_count": 3,
   "metadata": {},
   "outputs": [
    {
     "name": "stdout",
     "output_type": "stream",
     "text": [
      "<class 'pandas.core.frame.DataFrame'>\n",
      "Int64Index: 9100 entries, 0 to 9099\n",
      "Data columns (total 67 columns):\n",
      " #   Column              Non-Null Count  Dtype  \n",
      "---  ------              --------------  -----  \n",
      " 0   av_depth            9100 non-null   float64\n",
      " 1   max_depth           9100 non-null   int64  \n",
      " 2   min_depth           9100 non-null   int64  \n",
      " 3   num_acl             9100 non-null   int64  \n",
      " 4   num_rel_cl          9100 non-null   int64  \n",
      " 5   num_advcl           9100 non-null   int64  \n",
      " 6   num_sent            9100 non-null   int64  \n",
      " 7   num_tok             9100 non-null   int64  \n",
      " 8   av_tok_before_root  9100 non-null   float64\n",
      " 9   av_len_sent         9100 non-null   float64\n",
      " 10  num_cl              9100 non-null   int64  \n",
      " 11  num_tu              9100 non-null   int64  \n",
      " 12  num_compl_tu        9100 non-null   int64  \n",
      " 13  num_coord           9100 non-null   int64  \n",
      " 14  num_poss            9100 non-null   int64  \n",
      " 15  num_prep            9100 non-null   int64  \n",
      " 16  num_adj_noun        9100 non-null   int64  \n",
      " 17  num_part_noun       9100 non-null   int64  \n",
      " 18  num_noun_inf        9100 non-null   int64  \n",
      " 19  pos_sim_nei         9100 non-null   float64\n",
      " 20  pos_sim_all         9100 non-null   float64\n",
      " 21  lemma_sim_all       9100 non-null   float64\n",
      " 22  lemma_sim_nei       9100 non-null   float64\n",
      " 23  density             9100 non-null   float64\n",
      " 24  ls                  9100 non-null   float64\n",
      " 25  vs                  9100 non-null   float64\n",
      " 26  corrected_vs        9100 non-null   float64\n",
      " 27  squared_vs          9100 non-null   float64\n",
      " 28  lfp_1000            9100 non-null   float64\n",
      " 29  lfp_2000            9100 non-null   float64\n",
      " 30  lfp_uwl             9100 non-null   float64\n",
      " 31  lfp_rest            9100 non-null   float64\n",
      " 32  ndw                 9100 non-null   int64  \n",
      " 33  ttr                 9100 non-null   float64\n",
      " 34  corrected_ttr       9100 non-null   float64\n",
      " 35  root_ttr            9100 non-null   float64\n",
      " 36  log_ttr             9100 non-null   float64\n",
      " 37  uber_ttr            9100 non-null   float64\n",
      " 38  d                   9100 non-null   float64\n",
      " 39  lv                  9100 non-null   float64\n",
      " 40  vvi                 9100 non-null   float64\n",
      " 41  squared_vv          9100 non-null   float64\n",
      " 42  corrected_vv        9100 non-null   float64\n",
      " 43  vvii                9100 non-null   float64\n",
      " 44  nv                  9100 non-null   float64\n",
      " 45  adjv                9100 non-null   float64\n",
      " 46  advv                9100 non-null   float64\n",
      " 47  modv                9100 non-null   float64\n",
      " 48  der_level3          9100 non-null   float64\n",
      " 49  der_level4          9100 non-null   float64\n",
      " 50  der_level5          9100 non-null   float64\n",
      " 51  der_level6          9100 non-null   float64\n",
      " 52  mci                 9100 non-null   float64\n",
      " 53  freq_finite_forms   9100 non-null   float64\n",
      " 54  freq_aux            9100 non-null   float64\n",
      " 55  num_inf             9100 non-null   int64  \n",
      " 56  num_gerunds         9100 non-null   int64  \n",
      " 57  num_pres_sing       9100 non-null   int64  \n",
      " 58  num_pres_plur       9100 non-null   int64  \n",
      " 59  num_past_part       9100 non-null   int64  \n",
      " 60  num_past_simple     9100 non-null   int64  \n",
      " 61  num_linkings        9100 non-null   int64  \n",
      " 62  num_4grams          9100 non-null   int64  \n",
      " 63  num_func_ngrams     9100 non-null   int64  \n",
      " 64  million_mistake     9100 non-null   int64  \n",
      " 65  sum_punct           9100 non-null   int64  \n",
      " 66  cls                 9100 non-null   int64  \n",
      "dtypes: float64(38), int64(29)\n",
      "memory usage: 4.7 MB\n"
     ]
    }
   ],
   "source": [
    "df_gen.info()"
   ]
  },
  {
   "cell_type": "code",
   "execution_count": 4,
   "metadata": {},
   "outputs": [
    {
     "data": {
      "text/plain": [
       "5    2441\n",
       "4    2386\n",
       "3    2257\n",
       "2    2016\n",
       "Name: cls, dtype: int64"
      ]
     },
     "execution_count": 4,
     "metadata": {},
     "output_type": "execute_result"
    }
   ],
   "source": [
    "df_gen['cls'].value_counts()"
   ]
  },
  {
   "cell_type": "code",
   "execution_count": 5,
   "metadata": {},
   "outputs": [
    {
     "data": {
      "image/png": "[encoded data removed]",
      "text/plain": [
       "<Figure size 1440x720 with 1 Axes>"
      ]
     },
     "metadata": {},
     "output_type": "display_data"
    }
   ],
   "source": [
    "sns.set(rc={'figure.figsize':(20,10)})\n",
    "sns_plt = sns.countplot(x='cls', data=df_gen, palette=\"Set2\")"
   ]
  },
  {
   "cell_type": "markdown",
   "metadata": {},
   "source": [
    "Т.к. сгенерированны данные только для тренировочной выборки, то тестовую выборку получим из начальных данных"
   ]
  },
  {
   "cell_type": "code",
   "execution_count": 6,
   "metadata": {},
   "outputs": [],
   "source": [
    "df = pd.read_csv(r'D:\\hse_iot\\VKR\\my_inspector\\data\\classification_dataset.csv')\n",
    "df.drop(['num_misspelled_tokens', 'num_shell_noun', 'name', 'type', 'punct_mistakes_pp', 'punct_mistakes_because', 'punct_mistakes_but', 'punct_mistakes_compare', 'side_mistake', 'text'],  inplace=True, axis=1)\n",
    "df['class'] = round(df['class'] / 10).astype(int)\n",
    "df.loc[df['class'] == 1, 'class'] = 2\n",
    "df.loc[df['class'] == 3, 'class'] = 2\n",
    "df.loc[df['class'] == 4, 'class'] = 3\n",
    "df.loc[df['class'] == 5, 'class'] = 3\n",
    "df.loc[df['class'] == 6, 'class'] = 4\n",
    "df.loc[df['class'] == 7, 'class'] = 4\n",
    "df.loc[df['class'] == 8, 'class'] = 5\n",
    "\n",
    "df = df.rename(columns = {'class': 'cls'})\n",
    "feature_columns = [col for col in df.columns if col not in ['cls',]]\n",
    "X = df[feature_columns]\n",
    "y = df['cls']\n",
    "train_x, test_x, train_y, test_y = train_test_split(X, y, test_size=0.2, random_state = SEED)"
   ]
  },
  {
   "cell_type": "code",
   "execution_count": 7,
   "metadata": {},
   "outputs": [],
   "source": [
    "feature_columns = [col for col in df_gen.columns if col not in ['cls',]]\n",
    "train_x = df_gen[feature_columns]\n",
    "train_y = df_gen['cls']"
   ]
  },
  {
   "cell_type": "code",
   "execution_count": null,
   "metadata": {},
   "outputs": [],
   "source": []
  },
  {
   "cell_type": "code",
   "execution_count": null,
   "metadata": {},
   "outputs": [],
   "source": []
  }
 ],
 "metadata": {
  "kernelspec": {
   "display_name": "Python 3",
   "language": "python",
   "name": "python3"
  },
  "language_info": {
   "codemirror_mode": {
    "name": "ipython",
    "version": 3
   },
   "file_extension": ".py",
   "mimetype": "text/x-python",
   "name": "python",
   "nbconvert_exporter": "python",
   "pygments_lexer": "ipython3",
   "version": "3.8.5"
  }
 },
 "nbformat": 4,
 "nbformat_minor": 4
}

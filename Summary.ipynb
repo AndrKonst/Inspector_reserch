{
 "cells": [
  {
   "cell_type": "code",
   "execution_count": 1,
   "metadata": {},
   "outputs": [
    {
     "name": "stderr",
     "output_type": "stream",
     "text": [
      "C:\\Users\\Konstantin\\.conda\\envs\\ml_hse\\lib\\site-packages\\sklearn\\utils\\deprecation.py:143: FutureWarning: The sklearn.ensemble.forest module is  deprecated in version 0.22 and will be removed in version 0.24. The corresponding classes / functions should instead be imported from sklearn.ensemble. Anything that cannot be imported from sklearn.ensemble is now part of the private API.\n",
      "  warnings.warn(message, FutureWarning)\n",
      "C:\\Users\\Konstantin\\.conda\\envs\\ml_hse\\lib\\site-packages\\sklearn\\utils\\deprecation.py:143: FutureWarning: The sklearn.tree.tree module is  deprecated in version 0.22 and will be removed in version 0.24. The corresponding classes / functions should instead be imported from sklearn.tree. Anything that cannot be imported from sklearn.tree is now part of the private API.\n",
      "  warnings.warn(message, FutureWarning)\n",
      "C:\\Users\\Konstantin\\.conda\\envs\\ml_hse\\lib\\site-packages\\sklearn\\base.py:329: UserWarning: Trying to unpickle estimator DecisionTreeClassifier from version 0.21.1 when using version 0.23.2. This might lead to breaking code or invalid results. Use at your own risk.\n",
      "  warnings.warn(\n",
      "C:\\Users\\Konstantin\\.conda\\envs\\ml_hse\\lib\\site-packages\\sklearn\\base.py:329: UserWarning: Trying to unpickle estimator RandomForestClassifier from version 0.21.1 when using version 0.23.2. This might lead to breaking code or invalid results. Use at your own risk.\n",
      "  warnings.warn(\n",
      "C:\\Users\\Konstantin\\.conda\\envs\\ml_hse\\lib\\site-packages\\sklearn\\utils\\deprecation.py:143: FutureWarning: The sklearn.linear_model.logistic module is  deprecated in version 0.22 and will be removed in version 0.24. The corresponding classes / functions should instead be imported from sklearn.linear_model. Anything that cannot be imported from sklearn.linear_model is now part of the private API.\n",
      "  warnings.warn(message, FutureWarning)\n",
      "C:\\Users\\Konstantin\\.conda\\envs\\ml_hse\\lib\\site-packages\\sklearn\\base.py:329: UserWarning: Trying to unpickle estimator LogisticRegression from version 0.21.1 when using version 0.23.2. This might lead to breaking code or invalid results. Use at your own risk.\n",
      "  warnings.warn(\n",
      "C:\\Users\\Konstantin\\.conda\\envs\\ml_hse\\lib\\site-packages\\sklearn\\base.py:329: UserWarning: Trying to unpickle estimator LogisticRegression from version 0.21.2 when using version 0.23.2. This might lead to breaking code or invalid results. Use at your own risk.\n",
      "  warnings.warn(\n",
      "C:\\Users\\Konstantin\\.conda\\envs\\ml_hse\\lib\\site-packages\\sklearn\\base.py:329: UserWarning: Trying to unpickle estimator TfidfTransformer from version 0.21.1 when using version 0.23.2. This might lead to breaking code or invalid results. Use at your own risk.\n",
      "  warnings.warn(\n",
      "C:\\Users\\Konstantin\\.conda\\envs\\ml_hse\\lib\\site-packages\\sklearn\\base.py:329: UserWarning: Trying to unpickle estimator TfidfVectorizer from version 0.21.1 when using version 0.23.2. This might lead to breaking code or invalid results. Use at your own risk.\n",
      "  warnings.warn(\n",
      "C:\\Users\\Konstantin\\.conda\\envs\\ml_hse\\lib\\site-packages\\sklearn\\base.py:329: UserWarning: Trying to unpickle estimator ColumnTransformer from version 0.21.1 when using version 0.23.2. This might lead to breaking code or invalid results. Use at your own risk.\n",
      "  warnings.warn(\n",
      "C:\\Users\\Konstantin\\.conda\\envs\\ml_hse\\lib\\site-packages\\sklearn\\base.py:329: UserWarning: Trying to unpickle estimator Pipeline from version 0.21.1 when using version 0.23.2. This might lead to breaking code or invalid results. Use at your own risk.\n",
      "  warnings.warn(\n"
     ]
    }
   ],
   "source": [
    "import pandas as pd\n",
    "import matplotlib.pyplot as plt\n",
    "import seaborn as sns\n",
    "import numpy as np\n",
    "from math import ceil\n",
    "import shelve\n",
    "from tqdm import tqdm\n",
    "\n",
    "from sklearn.model_selection import train_test_split, cross_val_predict\n",
    "from sklearn.metrics import confusion_matrix, accuracy_score, make_scorer\n",
    "from sklearn.model_selection import GridSearchCV\n",
    "from sklearn.model_selection import RandomizedSearchCV\n",
    "from sklearn.preprocessing import StandardScaler, OneHotEncoder\n",
    "from sklearn.base import BaseEstimator, ClassifierMixin\n",
    "from sklearn.metrics import classification_report\n",
    "from sklearn.base import BaseEstimator, TransformerMixin\n",
    "from sklearn.pipeline import Pipeline \n",
    "from itertools import combinations\n",
    "\n",
    "from sklearn.neighbors import KNeighborsClassifier\n",
    "from sklearn.ensemble import RandomForestClassifier\n",
    "import xgboost as xgb\n",
    "from sklearn.svm import SVC\n",
    "\n",
    "from tensorflow import keras\n",
    "from tensorflow.keras import layers\n",
    "from tensorflow.keras import Sequential\n",
    "from tensorflow.keras.layers import Dense\n",
    "from tensorflow.keras.wrappers.scikit_learn import KerasClassifier\n",
    "from tensorflow.keras.callbacks import EarlyStopping\n",
    "\n",
    "from inspector.app.utils import get_feature_values\n",
    "from inspector.app.utils.model import Model\n",
    "from inspector.app.views import gather_values\n",
    "\n",
    "import re\n",
    "from gensim.models.word2vec import Word2Vec\n",
    "\n",
    "\n",
    "SEED = 25"
   ]
  },
  {
   "cell_type": "code",
   "execution_count": 2,
   "metadata": {
    "scrolled": true
   },
   "outputs": [
    {
     "data": {
      "text/html": [
       "<div>\n",
       "<style scoped>\n",
       "    .dataframe tbody tr th:only-of-type {\n",
       "        vertical-align: middle;\n",
       "    }\n",
       "\n",
       "    .dataframe tbody tr th {\n",
       "        vertical-align: top;\n",
       "    }\n",
       "\n",
       "    .dataframe thead th {\n",
       "        text-align: right;\n",
       "    }\n",
       "</style>\n",
       "<table border=\"1\" class=\"dataframe\">\n",
       "  <thead>\n",
       "    <tr style=\"text-align: right;\">\n",
       "      <th></th>\n",
       "      <th>av_depth</th>\n",
       "      <th>max_depth</th>\n",
       "      <th>min_depth</th>\n",
       "      <th>num_acl</th>\n",
       "      <th>num_rel_cl</th>\n",
       "      <th>num_advcl</th>\n",
       "      <th>num_sent</th>\n",
       "      <th>num_tok</th>\n",
       "      <th>av_tok_before_root</th>\n",
       "      <th>av_len_sent</th>\n",
       "      <th>...</th>\n",
       "      <th>num_linkings</th>\n",
       "      <th>num_4grams</th>\n",
       "      <th>num_func_ngrams</th>\n",
       "      <th>num_shell_noun</th>\n",
       "      <th>num_misspelled_tokens</th>\n",
       "      <th>million_mistake</th>\n",
       "      <th>text</th>\n",
       "      <th>class</th>\n",
       "      <th>type</th>\n",
       "      <th>sum_punct</th>\n",
       "    </tr>\n",
       "  </thead>\n",
       "  <tbody>\n",
       "    <tr>\n",
       "      <th>0</th>\n",
       "      <td>3.56</td>\n",
       "      <td>6</td>\n",
       "      <td>2</td>\n",
       "      <td>2</td>\n",
       "      <td>0</td>\n",
       "      <td>1</td>\n",
       "      <td>18</td>\n",
       "      <td>244</td>\n",
       "      <td>4.39</td>\n",
       "      <td>13.56</td>\n",
       "      <td>...</td>\n",
       "      <td>5</td>\n",
       "      <td>1</td>\n",
       "      <td>0</td>\n",
       "      <td>0</td>\n",
       "      <td>2</td>\n",
       "      <td>0</td>\n",
       "      <td>This two line graphs illustrates monthly avera...</td>\n",
       "      <td>6</td>\n",
       "      <td>1</td>\n",
       "      <td>0</td>\n",
       "    </tr>\n",
       "    <tr>\n",
       "      <th>1</th>\n",
       "      <td>5.43</td>\n",
       "      <td>10</td>\n",
       "      <td>4</td>\n",
       "      <td>1</td>\n",
       "      <td>3</td>\n",
       "      <td>1</td>\n",
       "      <td>7</td>\n",
       "      <td>175</td>\n",
       "      <td>6.29</td>\n",
       "      <td>25.00</td>\n",
       "      <td>...</td>\n",
       "      <td>6</td>\n",
       "      <td>1</td>\n",
       "      <td>0</td>\n",
       "      <td>0</td>\n",
       "      <td>3</td>\n",
       "      <td>0</td>\n",
       "      <td>﻿We have two graphics, which show us the popul...</td>\n",
       "      <td>6</td>\n",
       "      <td>1</td>\n",
       "      <td>0</td>\n",
       "    </tr>\n",
       "  </tbody>\n",
       "</table>\n",
       "<p>2 rows × 62 columns</p>\n",
       "</div>"
      ],
      "text/plain": [
       "   av_depth  max_depth  min_depth  num_acl  num_rel_cl  num_advcl  num_sent  \\\n",
       "0      3.56          6          2        2           0          1        18   \n",
       "1      5.43         10          4        1           3          1         7   \n",
       "\n",
       "   num_tok  av_tok_before_root  av_len_sent  ...  num_linkings  num_4grams  \\\n",
       "0      244                4.39        13.56  ...             5           1   \n",
       "1      175                6.29        25.00  ...             6           1   \n",
       "\n",
       "   num_func_ngrams  num_shell_noun  num_misspelled_tokens  million_mistake  \\\n",
       "0                0               0                      2                0   \n",
       "1                0               0                      3                0   \n",
       "\n",
       "                                                text  class  type  sum_punct  \n",
       "0  This two line graphs illustrates monthly avera...      6     1          0  \n",
       "1  ﻿We have two graphics, which show us the popul...      6     1          0  \n",
       "\n",
       "[2 rows x 62 columns]"
      ]
     },
     "execution_count": 2,
     "metadata": {},
     "output_type": "execute_result"
    }
   ],
   "source": [
    "df = pd.read_csv(r'D:\\hse_iot\\VKR\\my_inspector\\data\\classification_dataset.csv')\n",
    "df['class'] = round(df['class'] / 10).astype(int)\n",
    "df = df[df['class'] != 1]\n",
    "_type = df['type'].to_list()\n",
    "df = df.drop(['name', 'side_mistake',\n",
    "              'vs', 'squared_vs', 'ttr', 'root_ttr',\n",
    "              'log_ttr', 'uber_ttr', 'd', 'vvi',\n",
    "              'squared_vv', 'punct_mistakes_pp',\n",
    "              'punct_mistakes_because',\n",
    "              'punct_mistakes_but', 'punct_mistakes_compare'], axis=1)\n",
    "\n",
    "df.head(2)"
   ]
  },
  {
   "cell_type": "code",
   "execution_count": 10,
   "metadata": {},
   "outputs": [
    {
     "data": {
      "text/plain": [
       "6    2680\n",
       "7     308\n",
       "5     215\n",
       "4     122\n",
       "8      77\n",
       "2      24\n",
       "3      14\n",
       "Name: class, dtype: int64"
      ]
     },
     "execution_count": 10,
     "metadata": {},
     "output_type": "execute_result"
    }
   ],
   "source": [
    "df['class'].value_counts()"
   ]
  },
  {
   "cell_type": "code",
   "execution_count": 11,
   "metadata": {},
   "outputs": [
    {
     "data": {
      "image/png": "[encoded data removed]",
      "text/plain": [
       "<Figure size 1440x720 with 1 Axes>"
      ]
     },
     "metadata": {},
     "output_type": "display_data"
    }
   ],
   "source": [
    "df.loc[df['class'] == 1, 'class'] = 2\n",
    "df.loc[df['class'] == 3, 'class'] = 2\n",
    "df.loc[df['class'] == 4, 'class'] = 3\n",
    "df.loc[df['class'] == 5, 'class'] = 3\n",
    "df.loc[df['class'] == 6, 'class'] = 4\n",
    "df.loc[df['class'] == 7, 'class'] = 4\n",
    "df.loc[df['class'] == 8, 'class'] = 5\n",
    "\n",
    "sns.set(rc={'figure.figsize':(20,10)})\n",
    "sns_plt = sns.countplot(x='class', data=df, palette=\"Set2\")"
   ]
  },
  {
   "cell_type": "code",
   "execution_count": 12,
   "metadata": {},
   "outputs": [],
   "source": [
    "df = df.rename(columns = {'class': 'cls'})\n",
    "feature_columns = [col for col in df.columns if col not in ['cls',]]\n",
    "X = df[feature_columns]\n",
    "y = df['cls']\n",
    "train_x, test_x, train_y, test_y = train_test_split(X, y, test_size=0.2, random_state = SEED)"
   ]
  },
  {
   "cell_type": "markdown",
   "metadata": {},
   "source": [
    "Т.к. имеем очень малое количество текстов во всех классах кроме 4, то сгенерируем тексты скомпоновав их половины"
   ]
  },
  {
   "cell_type": "code",
   "execution_count": 3,
   "metadata": {
    "scrolled": true
   },
   "outputs": [
    {
     "data": {
      "text/html": [
       "<div>\n",
       "<style scoped>\n",
       "    .dataframe tbody tr th:only-of-type {\n",
       "        vertical-align: middle;\n",
       "    }\n",
       "\n",
       "    .dataframe tbody tr th {\n",
       "        vertical-align: top;\n",
       "    }\n",
       "\n",
       "    .dataframe thead th {\n",
       "        text-align: right;\n",
       "    }\n",
       "</style>\n",
       "<table border=\"1\" class=\"dataframe\">\n",
       "  <thead>\n",
       "    <tr style=\"text-align: right;\">\n",
       "      <th></th>\n",
       "      <th>av_depth</th>\n",
       "      <th>max_depth</th>\n",
       "      <th>min_depth</th>\n",
       "      <th>num_acl</th>\n",
       "      <th>num_rel_cl</th>\n",
       "      <th>num_advcl</th>\n",
       "      <th>num_sent</th>\n",
       "      <th>num_tok</th>\n",
       "      <th>av_tok_before_root</th>\n",
       "      <th>av_len_sent</th>\n",
       "      <th>...</th>\n",
       "      <th>num_pres_plur</th>\n",
       "      <th>num_past_part</th>\n",
       "      <th>num_past_simple</th>\n",
       "      <th>num_linkings</th>\n",
       "      <th>num_4grams</th>\n",
       "      <th>num_func_ngrams</th>\n",
       "      <th>million_mistake</th>\n",
       "      <th>text</th>\n",
       "      <th>sum_punct</th>\n",
       "      <th>cls</th>\n",
       "    </tr>\n",
       "    <tr>\n",
       "      <th>idx</th>\n",
       "      <th></th>\n",
       "      <th></th>\n",
       "      <th></th>\n",
       "      <th></th>\n",
       "      <th></th>\n",
       "      <th></th>\n",
       "      <th></th>\n",
       "      <th></th>\n",
       "      <th></th>\n",
       "      <th></th>\n",
       "      <th></th>\n",
       "      <th></th>\n",
       "      <th></th>\n",
       "      <th></th>\n",
       "      <th></th>\n",
       "      <th></th>\n",
       "      <th></th>\n",
       "      <th></th>\n",
       "      <th></th>\n",
       "      <th></th>\n",
       "      <th></th>\n",
       "    </tr>\n",
       "  </thead>\n",
       "  <tbody>\n",
       "    <tr>\n",
       "      <th>0</th>\n",
       "      <td>3.69</td>\n",
       "      <td>7</td>\n",
       "      <td>2</td>\n",
       "      <td>2</td>\n",
       "      <td>2</td>\n",
       "      <td>0</td>\n",
       "      <td>13</td>\n",
       "      <td>189</td>\n",
       "      <td>4.23</td>\n",
       "      <td>14.54</td>\n",
       "      <td>...</td>\n",
       "      <td>0</td>\n",
       "      <td>2</td>\n",
       "      <td>4</td>\n",
       "      <td>6</td>\n",
       "      <td>3</td>\n",
       "      <td>1</td>\n",
       "      <td>0</td>\n",
       "      <td>The graph illustrates the market situation abo...</td>\n",
       "      <td>0</td>\n",
       "      <td>4</td>\n",
       "    </tr>\n",
       "    <tr>\n",
       "      <th>1</th>\n",
       "      <td>3.93</td>\n",
       "      <td>7</td>\n",
       "      <td>2</td>\n",
       "      <td>1</td>\n",
       "      <td>3</td>\n",
       "      <td>1</td>\n",
       "      <td>15</td>\n",
       "      <td>244</td>\n",
       "      <td>4.80</td>\n",
       "      <td>16.27</td>\n",
       "      <td>...</td>\n",
       "      <td>0</td>\n",
       "      <td>3</td>\n",
       "      <td>0</td>\n",
       "      <td>13</td>\n",
       "      <td>2</td>\n",
       "      <td>0</td>\n",
       "      <td>0</td>\n",
       "      <td>There is a linegraph and piechart. The linegra...</td>\n",
       "      <td>0</td>\n",
       "      <td>4</td>\n",
       "    </tr>\n",
       "  </tbody>\n",
       "</table>\n",
       "<p>2 rows × 59 columns</p>\n",
       "</div>"
      ],
      "text/plain": [
       "     av_depth  max_depth  min_depth  num_acl  num_rel_cl  num_advcl  num_sent  \\\n",
       "idx                                                                             \n",
       "0        3.69          7          2        2           2          0        13   \n",
       "1        3.93          7          2        1           3          1        15   \n",
       "\n",
       "     num_tok  av_tok_before_root  av_len_sent  ...  num_pres_plur  \\\n",
       "idx                                            ...                  \n",
       "0        189                4.23        14.54  ...              0   \n",
       "1        244                4.80        16.27  ...              0   \n",
       "\n",
       "     num_past_part  num_past_simple  num_linkings  num_4grams  \\\n",
       "idx                                                             \n",
       "0                2                4             6           3   \n",
       "1                3                0            13           2   \n",
       "\n",
       "     num_func_ngrams  million_mistake  \\\n",
       "idx                                     \n",
       "0                  1                0   \n",
       "1                  0                0   \n",
       "\n",
       "                                                  text  sum_punct  cls  \n",
       "idx                                                                     \n",
       "0    The graph illustrates the market situation abo...          0    4  \n",
       "1    There is a linegraph and piechart. The linegra...          0    4  \n",
       "\n",
       "[2 rows x 59 columns]"
      ]
     },
     "execution_count": 3,
     "metadata": {},
     "output_type": "execute_result"
    }
   ],
   "source": [
    "df_gen = pd.read_csv(r'D:\\hse_iot\\VKR\\my_inspector\\data\\generated_data.csv', index_col='idx')\n",
    "df_gen.drop(['squared_vs', 'root_ttr', 'uber_ttr', 'ttr', 'd', 'vvi', 'squared_vv', 'vs', 'log_ttr'],  inplace=True, axis=1)\n",
    "df_gen.head(2)"
   ]
  },
  {
   "cell_type": "code",
   "execution_count": 4,
   "metadata": {},
   "outputs": [
    {
     "data": {
      "text/plain": [
       "'The pie charts provide the information about transportation of different goods between east Europe countries in 2008. One pie chart is about goods transported by rail another by road.\\r\\n\\r\\nIt can be seen that metals are often transported by rail it is 35%. And the most transported by road is a food products. Form the charts it is clear that the way of chemicals transportation is not very important, because numbers are fast the same. What about machinery it prefer to transport by rail and only 2% of machinery goods are transported by road. Non-metallic minerals is better to transport by road. Comparing two pie charts it can be see that both ways of transportation are popular and the choice hangs what kind of goods need to transport the most convenient way to metals transportations is rail, and to food products transportation is road. Machinery goods are transported by road seldom.\\r\\n'"
      ]
     },
     "execution_count": 4,
     "metadata": {},
     "output_type": "execute_result"
    }
   ],
   "source": [
    "df_gen.text.iloc[157]"
   ]
  },
  {
   "cell_type": "code",
   "execution_count": 5,
   "metadata": {},
   "outputs": [
    {
     "data": {
      "text/plain": [
       "5    2441\n",
       "4    2386\n",
       "3    2257\n",
       "2    2016\n",
       "Name: cls, dtype: int64"
      ]
     },
     "execution_count": 5,
     "metadata": {},
     "output_type": "execute_result"
    }
   ],
   "source": [
    "df_gen['cls'].value_counts()"
   ]
  },
  {
   "cell_type": "code",
   "execution_count": 6,
   "metadata": {},
   "outputs": [
    {
     "data": {
      "image/png": "[encoded data removed]",
      "text/plain": [
       "<Figure size 1440x720 with 1 Axes>"
      ]
     },
     "metadata": {},
     "output_type": "display_data"
    }
   ],
   "source": [
    "sns.set(rc={'figure.figsize':(20,10)})\n",
    "sns_plt = sns.countplot(x='cls', data=df_gen, palette=\"Set2\")"
   ]
  },
  {
   "cell_type": "code",
   "execution_count": 7,
   "metadata": {},
   "outputs": [],
   "source": [
    "def get_results(clf, train_x, train_y, test_x, test_y):\n",
    "    print('         -----------Train data res------------\\n')\n",
    "    pred_y = cross_val_predict(clf, train_x, train_y, cv=10)\n",
    "    print(classification_report(train_y, pred_y))\n",
    "    print('Confusion matrix: \\n\\n', confusion_matrix(train_y, pred_y))\n",
    "    \n",
    "    print('\\n       -----------Test data res------------\\n')\n",
    "    clf.fit(train_x, train_y)\n",
    "    pred_y = clf.predict(test_x)\n",
    "    print(classification_report(test_y, pred_y))\n",
    "    print('Confusion matrix: \\n\\n', confusion_matrix(test_y, pred_y))"
   ]
  },
  {
   "cell_type": "markdown",
   "metadata": {},
   "source": [
    "# Cтатистические модели на половинах текстов"
   ]
  },
  {
   "cell_type": "code",
   "execution_count": 8,
   "metadata": {},
   "outputs": [],
   "source": [
    "feature_cols = [i for i in df_gen.columns if i not in ['cls', 'text']]"
   ]
  },
  {
   "cell_type": "markdown",
   "metadata": {},
   "source": [
    "### KNN"
   ]
  },
  {
   "cell_type": "code",
   "execution_count": 13,
   "metadata": {},
   "outputs": [
    {
     "name": "stdout",
     "output_type": "stream",
     "text": [
      "         -----------Train data res------------\n",
      "\n",
      "              precision    recall  f1-score   support\n",
      "\n",
      "           2       0.81      0.85      0.83      2016\n",
      "           3       0.76      0.62      0.68      2257\n",
      "           4       0.88      0.98      0.93      2386\n",
      "           5       0.86      0.88      0.87      2441\n",
      "\n",
      "    accuracy                           0.84      9100\n",
      "   macro avg       0.83      0.83      0.83      9100\n",
      "weighted avg       0.83      0.84      0.83      9100\n",
      "\n",
      "Confusion matrix: \n",
      "\n",
      " [[1721  211    0   84]\n",
      " [ 390 1390  222  255]\n",
      " [   5   30 2346    5]\n",
      " [  12  190   87 2152]]\n",
      "\n",
      "       -----------Test data res------------\n",
      "\n",
      "              precision    recall  f1-score   support\n",
      "\n",
      "           2       0.33      0.25      0.29         8\n",
      "           3       0.86      0.50      0.63        76\n",
      "           4       0.92      0.99      0.95       587\n",
      "           5       0.83      0.29      0.43        17\n",
      "\n",
      "    accuracy                           0.91       688\n",
      "   macro avg       0.74      0.51      0.58       688\n",
      "weighted avg       0.91      0.91      0.90       688\n",
      "\n",
      "Confusion matrix: \n",
      "\n",
      " [[  2   2   4   0]\n",
      " [  4  38  34   0]\n",
      " [  0   4 582   1]\n",
      " [  0   0  12   5]]\n"
     ]
    }
   ],
   "source": [
    "get_results(KNeighborsClassifier(n_neighbors=7, p=1, weights='distance'),\n",
    "           df_gen[feature_cols],\n",
    "           df_gen['cls'],\n",
    "           test_x[feature_cols],\n",
    "           test_y)"
   ]
  },
  {
   "cell_type": "code",
   "execution_count": 14,
   "metadata": {},
   "outputs": [],
   "source": [
    "import pickle"
   ]
  },
  {
   "cell_type": "code",
   "execution_count": 15,
   "metadata": {},
   "outputs": [
    {
     "data": {
      "text/plain": [
       "KNeighborsClassifier(n_neighbors=7, p=1, weights='distance')"
      ]
     },
     "execution_count": 15,
     "metadata": {},
     "output_type": "execute_result"
    }
   ],
   "source": [
    "knn = KNeighborsClassifier(n_neighbors=7, p=1, weights='distance')\n",
    "knn.fit(df_gen[feature_cols], df_gen['cls'])"
   ]
  },
  {
   "cell_type": "code",
   "execution_count": 40,
   "metadata": {},
   "outputs": [
    {
     "data": {
      "text/html": [
       "<div>\n",
       "<style scoped>\n",
       "    .dataframe tbody tr th:only-of-type {\n",
       "        vertical-align: middle;\n",
       "    }\n",
       "\n",
       "    .dataframe tbody tr th {\n",
       "        vertical-align: top;\n",
       "    }\n",
       "\n",
       "    .dataframe thead th {\n",
       "        text-align: right;\n",
       "    }\n",
       "</style>\n",
       "<table border=\"1\" class=\"dataframe\">\n",
       "  <thead>\n",
       "    <tr style=\"text-align: right;\">\n",
       "      <th></th>\n",
       "      <th>av_depth</th>\n",
       "      <th>max_depth</th>\n",
       "      <th>min_depth</th>\n",
       "      <th>num_acl</th>\n",
       "      <th>num_rel_cl</th>\n",
       "      <th>num_advcl</th>\n",
       "      <th>num_sent</th>\n",
       "      <th>num_tok</th>\n",
       "      <th>av_tok_before_root</th>\n",
       "      <th>av_len_sent</th>\n",
       "      <th>...</th>\n",
       "      <th>num_past_simple</th>\n",
       "      <th>num_linkings</th>\n",
       "      <th>num_4grams</th>\n",
       "      <th>num_func_ngrams</th>\n",
       "      <th>num_shell_noun</th>\n",
       "      <th>num_misspelled_tokens</th>\n",
       "      <th>million_mistake</th>\n",
       "      <th>text</th>\n",
       "      <th>type</th>\n",
       "      <th>sum_punct</th>\n",
       "    </tr>\n",
       "  </thead>\n",
       "  <tbody>\n",
       "    <tr>\n",
       "      <th>265</th>\n",
       "      <td>4.35</td>\n",
       "      <td>7</td>\n",
       "      <td>2</td>\n",
       "      <td>6</td>\n",
       "      <td>6</td>\n",
       "      <td>6</td>\n",
       "      <td>17</td>\n",
       "      <td>323</td>\n",
       "      <td>5.41</td>\n",
       "      <td>19.00</td>\n",
       "      <td>...</td>\n",
       "      <td>4</td>\n",
       "      <td>18</td>\n",
       "      <td>8</td>\n",
       "      <td>2</td>\n",
       "      <td>8</td>\n",
       "      <td>4</td>\n",
       "      <td>0</td>\n",
       "      <td>It is a well known fact that people today have...</td>\n",
       "      <td>2</td>\n",
       "      <td>1</td>\n",
       "    </tr>\n",
       "    <tr>\n",
       "      <th>1009</th>\n",
       "      <td>5.78</td>\n",
       "      <td>9</td>\n",
       "      <td>2</td>\n",
       "      <td>2</td>\n",
       "      <td>2</td>\n",
       "      <td>5</td>\n",
       "      <td>9</td>\n",
       "      <td>208</td>\n",
       "      <td>4.56</td>\n",
       "      <td>23.11</td>\n",
       "      <td>...</td>\n",
       "      <td>3</td>\n",
       "      <td>4</td>\n",
       "      <td>6</td>\n",
       "      <td>1</td>\n",
       "      <td>1</td>\n",
       "      <td>11</td>\n",
       "      <td>10</td>\n",
       "      <td>This chart as we can see characterized how muc...</td>\n",
       "      <td>1</td>\n",
       "      <td>0</td>\n",
       "    </tr>\n",
       "    <tr>\n",
       "      <th>1130</th>\n",
       "      <td>5.00</td>\n",
       "      <td>7</td>\n",
       "      <td>2</td>\n",
       "      <td>5</td>\n",
       "      <td>1</td>\n",
       "      <td>9</td>\n",
       "      <td>14</td>\n",
       "      <td>303</td>\n",
       "      <td>4.21</td>\n",
       "      <td>21.64</td>\n",
       "      <td>...</td>\n",
       "      <td>1</td>\n",
       "      <td>15</td>\n",
       "      <td>5</td>\n",
       "      <td>2</td>\n",
       "      <td>6</td>\n",
       "      <td>2</td>\n",
       "      <td>0</td>\n",
       "      <td>With the industrialisation and modernisation o...</td>\n",
       "      <td>2</td>\n",
       "      <td>1</td>\n",
       "    </tr>\n",
       "    <tr>\n",
       "      <th>579</th>\n",
       "      <td>3.12</td>\n",
       "      <td>5</td>\n",
       "      <td>2</td>\n",
       "      <td>0</td>\n",
       "      <td>0</td>\n",
       "      <td>4</td>\n",
       "      <td>26</td>\n",
       "      <td>312</td>\n",
       "      <td>3.12</td>\n",
       "      <td>12.00</td>\n",
       "      <td>...</td>\n",
       "      <td>6</td>\n",
       "      <td>13</td>\n",
       "      <td>22</td>\n",
       "      <td>5</td>\n",
       "      <td>3</td>\n",
       "      <td>2</td>\n",
       "      <td>0</td>\n",
       "      <td>Technologies are an essential part of modern l...</td>\n",
       "      <td>2</td>\n",
       "      <td>0</td>\n",
       "    </tr>\n",
       "    <tr>\n",
       "      <th>1665</th>\n",
       "      <td>5.07</td>\n",
       "      <td>9</td>\n",
       "      <td>3</td>\n",
       "      <td>5</td>\n",
       "      <td>3</td>\n",
       "      <td>6</td>\n",
       "      <td>14</td>\n",
       "      <td>321</td>\n",
       "      <td>6.64</td>\n",
       "      <td>22.93</td>\n",
       "      <td>...</td>\n",
       "      <td>2</td>\n",
       "      <td>9</td>\n",
       "      <td>21</td>\n",
       "      <td>4</td>\n",
       "      <td>4</td>\n",
       "      <td>1</td>\n",
       "      <td>0</td>\n",
       "      <td>At present there is a trend of air travel, tha...</td>\n",
       "      <td>2</td>\n",
       "      <td>1</td>\n",
       "    </tr>\n",
       "    <tr>\n",
       "      <th>...</th>\n",
       "      <td>...</td>\n",
       "      <td>...</td>\n",
       "      <td>...</td>\n",
       "      <td>...</td>\n",
       "      <td>...</td>\n",
       "      <td>...</td>\n",
       "      <td>...</td>\n",
       "      <td>...</td>\n",
       "      <td>...</td>\n",
       "      <td>...</td>\n",
       "      <td>...</td>\n",
       "      <td>...</td>\n",
       "      <td>...</td>\n",
       "      <td>...</td>\n",
       "      <td>...</td>\n",
       "      <td>...</td>\n",
       "      <td>...</td>\n",
       "      <td>...</td>\n",
       "      <td>...</td>\n",
       "      <td>...</td>\n",
       "      <td>...</td>\n",
       "    </tr>\n",
       "    <tr>\n",
       "      <th>725</th>\n",
       "      <td>5.78</td>\n",
       "      <td>8</td>\n",
       "      <td>3</td>\n",
       "      <td>4</td>\n",
       "      <td>4</td>\n",
       "      <td>5</td>\n",
       "      <td>9</td>\n",
       "      <td>225</td>\n",
       "      <td>9.67</td>\n",
       "      <td>25.00</td>\n",
       "      <td>...</td>\n",
       "      <td>2</td>\n",
       "      <td>11</td>\n",
       "      <td>9</td>\n",
       "      <td>2</td>\n",
       "      <td>2</td>\n",
       "      <td>6</td>\n",
       "      <td>0</td>\n",
       "      <td>﻿To start with, we live in the deloping world ...</td>\n",
       "      <td>2</td>\n",
       "      <td>1</td>\n",
       "    </tr>\n",
       "    <tr>\n",
       "      <th>1964</th>\n",
       "      <td>4.00</td>\n",
       "      <td>7</td>\n",
       "      <td>2</td>\n",
       "      <td>2</td>\n",
       "      <td>1</td>\n",
       "      <td>1</td>\n",
       "      <td>6</td>\n",
       "      <td>91</td>\n",
       "      <td>5.67</td>\n",
       "      <td>15.17</td>\n",
       "      <td>...</td>\n",
       "      <td>2</td>\n",
       "      <td>3</td>\n",
       "      <td>0</td>\n",
       "      <td>0</td>\n",
       "      <td>1</td>\n",
       "      <td>1</td>\n",
       "      <td>0</td>\n",
       "      <td>Today the most of people every day use technol...</td>\n",
       "      <td>2</td>\n",
       "      <td>0</td>\n",
       "    </tr>\n",
       "    <tr>\n",
       "      <th>3331</th>\n",
       "      <td>3.12</td>\n",
       "      <td>4</td>\n",
       "      <td>2</td>\n",
       "      <td>4</td>\n",
       "      <td>0</td>\n",
       "      <td>3</td>\n",
       "      <td>16</td>\n",
       "      <td>207</td>\n",
       "      <td>6.06</td>\n",
       "      <td>12.94</td>\n",
       "      <td>...</td>\n",
       "      <td>2</td>\n",
       "      <td>9</td>\n",
       "      <td>0</td>\n",
       "      <td>0</td>\n",
       "      <td>0</td>\n",
       "      <td>5</td>\n",
       "      <td>0</td>\n",
       "      <td>The chart shows changes in the unemployment ra...</td>\n",
       "      <td>1</td>\n",
       "      <td>1</td>\n",
       "    </tr>\n",
       "    <tr>\n",
       "      <th>207</th>\n",
       "      <td>5.33</td>\n",
       "      <td>9</td>\n",
       "      <td>2</td>\n",
       "      <td>7</td>\n",
       "      <td>3</td>\n",
       "      <td>5</td>\n",
       "      <td>9</td>\n",
       "      <td>237</td>\n",
       "      <td>6.56</td>\n",
       "      <td>26.33</td>\n",
       "      <td>...</td>\n",
       "      <td>1</td>\n",
       "      <td>12</td>\n",
       "      <td>4</td>\n",
       "      <td>1</td>\n",
       "      <td>0</td>\n",
       "      <td>7</td>\n",
       "      <td>0</td>\n",
       "      <td>﻿The bar chart illustrates the distribution of...</td>\n",
       "      <td>1</td>\n",
       "      <td>0</td>\n",
       "    </tr>\n",
       "    <tr>\n",
       "      <th>1643</th>\n",
       "      <td>5.21</td>\n",
       "      <td>9</td>\n",
       "      <td>2</td>\n",
       "      <td>3</td>\n",
       "      <td>5</td>\n",
       "      <td>9</td>\n",
       "      <td>14</td>\n",
       "      <td>313</td>\n",
       "      <td>5.07</td>\n",
       "      <td>22.36</td>\n",
       "      <td>...</td>\n",
       "      <td>1</td>\n",
       "      <td>12</td>\n",
       "      <td>13</td>\n",
       "      <td>2</td>\n",
       "      <td>4</td>\n",
       "      <td>3</td>\n",
       "      <td>0</td>\n",
       "      <td>Nowadays air travel is becoming more and more ...</td>\n",
       "      <td>2</td>\n",
       "      <td>2</td>\n",
       "    </tr>\n",
       "  </tbody>\n",
       "</table>\n",
       "<p>688 rows × 61 columns</p>\n",
       "</div>"
      ],
      "text/plain": [
       "      av_depth  max_depth  min_depth  num_acl  num_rel_cl  num_advcl  \\\n",
       "265       4.35          7          2        6           6          6   \n",
       "1009      5.78          9          2        2           2          5   \n",
       "1130      5.00          7          2        5           1          9   \n",
       "579       3.12          5          2        0           0          4   \n",
       "1665      5.07          9          3        5           3          6   \n",
       "...        ...        ...        ...      ...         ...        ...   \n",
       "725       5.78          8          3        4           4          5   \n",
       "1964      4.00          7          2        2           1          1   \n",
       "3331      3.12          4          2        4           0          3   \n",
       "207       5.33          9          2        7           3          5   \n",
       "1643      5.21          9          2        3           5          9   \n",
       "\n",
       "      num_sent  num_tok  av_tok_before_root  av_len_sent  ...  \\\n",
       "265         17      323                5.41        19.00  ...   \n",
       "1009         9      208                4.56        23.11  ...   \n",
       "1130        14      303                4.21        21.64  ...   \n",
       "579         26      312                3.12        12.00  ...   \n",
       "1665        14      321                6.64        22.93  ...   \n",
       "...        ...      ...                 ...          ...  ...   \n",
       "725          9      225                9.67        25.00  ...   \n",
       "1964         6       91                5.67        15.17  ...   \n",
       "3331        16      207                6.06        12.94  ...   \n",
       "207          9      237                6.56        26.33  ...   \n",
       "1643        14      313                5.07        22.36  ...   \n",
       "\n",
       "      num_past_simple  num_linkings  num_4grams  num_func_ngrams  \\\n",
       "265                 4            18           8                2   \n",
       "1009                3             4           6                1   \n",
       "1130                1            15           5                2   \n",
       "579                 6            13          22                5   \n",
       "1665                2             9          21                4   \n",
       "...               ...           ...         ...              ...   \n",
       "725                 2            11           9                2   \n",
       "1964                2             3           0                0   \n",
       "3331                2             9           0                0   \n",
       "207                 1            12           4                1   \n",
       "1643                1            12          13                2   \n",
       "\n",
       "      num_shell_noun  num_misspelled_tokens  million_mistake  \\\n",
       "265                8                      4                0   \n",
       "1009               1                     11               10   \n",
       "1130               6                      2                0   \n",
       "579                3                      2                0   \n",
       "1665               4                      1                0   \n",
       "...              ...                    ...              ...   \n",
       "725                2                      6                0   \n",
       "1964               1                      1                0   \n",
       "3331               0                      5                0   \n",
       "207                0                      7                0   \n",
       "1643               4                      3                0   \n",
       "\n",
       "                                                   text  type  sum_punct  \n",
       "265   It is a well known fact that people today have...     2          1  \n",
       "1009  This chart as we can see characterized how muc...     1          0  \n",
       "1130  With the industrialisation and modernisation o...     2          1  \n",
       "579   Technologies are an essential part of modern l...     2          0  \n",
       "1665  At present there is a trend of air travel, tha...     2          1  \n",
       "...                                                 ...   ...        ...  \n",
       "725   ﻿To start with, we live in the deloping world ...     2          1  \n",
       "1964  Today the most of people every day use technol...     2          0  \n",
       "3331  The chart shows changes in the unemployment ra...     1          1  \n",
       "207   ﻿The bar chart illustrates the distribution of...     1          0  \n",
       "1643  Nowadays air travel is becoming more and more ...     2          2  \n",
       "\n",
       "[688 rows x 61 columns]"
      ]
     },
     "execution_count": 40,
     "metadata": {},
     "output_type": "execute_result"
    }
   ],
   "source": [
    "test_x"
   ]
  },
  {
   "cell_type": "code",
   "execution_count": 69,
   "metadata": {},
   "outputs": [
    {
     "data": {
      "text/plain": [
       "'\\ufeffThe bar chart illustrates the proportion of the usage of three social networks by adults belonging to different age groups in the United States.\\r\\n\\r\\nIt can be clearly seen that Facebook is the most popular online network among all age groups, with more than four-fifth of people aged from 18 to 29 and more than a half of the people from other age groups using it.\\r\\nOn the contrary, Instagram and LinkedIn are not as widely used. While slightly more than a half of the younger generation have an Instagram account, only a quarter of people aged from 30 to 49 communicate via this network. As for those who are 50 years old or more, Instagram users make up a small minority.\\r\\nThe difference in the percentage of those who have LinkedIn accounts is less dramatic. The proportion of users aged from 18 to 29 and those who are at least 65 years old is equal, making up 22 per cent. The figures for those who belong to other age groups, 30-49 and 50-64 years old, are almost identical, with 31 and 32 per cent respectively.\\r\\n\\r\\nOverall, it can be concluded that Facebook is preferred to other social networks by all age groups in the USA, whereas Instagram is used mostly by younger people and LinkedIn popular among approximately a quarter of the whole adult population.'"
      ]
     },
     "execution_count": 69,
     "metadata": {},
     "output_type": "execute_result"
    }
   ],
   "source": [
    "test_x[test_y == 5].text.to_list()[15]"
   ]
  },
  {
   "cell_type": "code",
   "execution_count": 41,
   "metadata": {},
   "outputs": [
    {
     "ename": "ValueError",
     "evalue": "could not convert string to float: 'It is a well known fact that people today have a lot of problems with their health because of the use of computers and other technologied devices. Some of this problems are very serious, some of them can be easily reduced. \\r\\n\\r\\nThe most common problem for people nowadays is the lack of mobility. We spend a great part of the day sitting by our computers. People who work sit near the computer almost 8 hours without even getting up. Even students who are supposed to be healthy and active suffer from this problem. To reduce this issue, special exercises brakes can be introduced in offices, maybe even in universities and schools. It is crucial to have some resting time during work and studying, but it’s also important for this break to be helpful physically and mentaly. And of course let’s not forget about the healthy diet a person should have and the importance of staying hidrated. \\r\\n\\r\\nAnother problem that is discussed a lot today is peoples’ dependence on mobile phones and the internet.  A lot of my friends agree that they can’t live without  their phones. The constant need of communication and information stays behind that. However, I think that sometimes we need to have some tome for ourselves. Therefore one of the ways of dealing with this particular problem would be meditation. It is an easy way to relax and ger yourself together, clear  your head from all the unnecessary information that comes to us everyday. In my opinion, this is a great habbit everybody can develop. \\r\\n\\r\\nTo conclude, I can say that despite the fact that we live in a world  full of modern technology, we shouldn’t be lazy and we shouldn’t forget to take care of our personal health.\\r\\n'",
     "output_type": "error",
     "traceback": [
      "\u001b[1;31m---------------------------------------------------------------------------\u001b[0m",
      "\u001b[1;31mValueError\u001b[0m                                Traceback (most recent call last)",
      "\u001b[1;32m<ipython-input-41-aaedbedf19b3>\u001b[0m in \u001b[0;36m<module>\u001b[1;34m\u001b[0m\n\u001b[1;32m----> 1\u001b[1;33m \u001b[0mknn\u001b[0m\u001b[1;33m.\u001b[0m\u001b[0mpredict\u001b[0m\u001b[1;33m(\u001b[0m\u001b[0mtest_x\u001b[0m\u001b[1;33m)\u001b[0m\u001b[1;33m[\u001b[0m\u001b[1;36m0\u001b[0m\u001b[1;33m]\u001b[0m\u001b[1;33m\u001b[0m\u001b[1;33m\u001b[0m\u001b[0m\n\u001b[0m",
      "\u001b[1;32m~\\.conda\\envs\\ml_hse\\lib\\site-packages\\sklearn\\neighbors\\_classification.py\u001b[0m in \u001b[0;36mpredict\u001b[1;34m(self, X)\u001b[0m\n\u001b[0;32m    171\u001b[0m             \u001b[0mClass\u001b[0m \u001b[0mlabels\u001b[0m \u001b[1;32mfor\u001b[0m \u001b[0meach\u001b[0m \u001b[0mdata\u001b[0m \u001b[0msample\u001b[0m\u001b[1;33m.\u001b[0m\u001b[1;33m\u001b[0m\u001b[1;33m\u001b[0m\u001b[0m\n\u001b[0;32m    172\u001b[0m         \"\"\"\n\u001b[1;32m--> 173\u001b[1;33m         \u001b[0mX\u001b[0m \u001b[1;33m=\u001b[0m \u001b[0mcheck_array\u001b[0m\u001b[1;33m(\u001b[0m\u001b[0mX\u001b[0m\u001b[1;33m,\u001b[0m \u001b[0maccept_sparse\u001b[0m\u001b[1;33m=\u001b[0m\u001b[1;34m'csr'\u001b[0m\u001b[1;33m)\u001b[0m\u001b[1;33m\u001b[0m\u001b[1;33m\u001b[0m\u001b[0m\n\u001b[0m\u001b[0;32m    174\u001b[0m \u001b[1;33m\u001b[0m\u001b[0m\n\u001b[0;32m    175\u001b[0m         \u001b[0mneigh_dist\u001b[0m\u001b[1;33m,\u001b[0m \u001b[0mneigh_ind\u001b[0m \u001b[1;33m=\u001b[0m \u001b[0mself\u001b[0m\u001b[1;33m.\u001b[0m\u001b[0mkneighbors\u001b[0m\u001b[1;33m(\u001b[0m\u001b[0mX\u001b[0m\u001b[1;33m)\u001b[0m\u001b[1;33m\u001b[0m\u001b[1;33m\u001b[0m\u001b[0m\n",
      "\u001b[1;32m~\\.conda\\envs\\ml_hse\\lib\\site-packages\\sklearn\\utils\\validation.py\u001b[0m in \u001b[0;36minner_f\u001b[1;34m(*args, **kwargs)\u001b[0m\n\u001b[0;32m     70\u001b[0m                           FutureWarning)\n\u001b[0;32m     71\u001b[0m         \u001b[0mkwargs\u001b[0m\u001b[1;33m.\u001b[0m\u001b[0mupdate\u001b[0m\u001b[1;33m(\u001b[0m\u001b[1;33m{\u001b[0m\u001b[0mk\u001b[0m\u001b[1;33m:\u001b[0m \u001b[0marg\u001b[0m \u001b[1;32mfor\u001b[0m \u001b[0mk\u001b[0m\u001b[1;33m,\u001b[0m \u001b[0marg\u001b[0m \u001b[1;32min\u001b[0m \u001b[0mzip\u001b[0m\u001b[1;33m(\u001b[0m\u001b[0msig\u001b[0m\u001b[1;33m.\u001b[0m\u001b[0mparameters\u001b[0m\u001b[1;33m,\u001b[0m \u001b[0margs\u001b[0m\u001b[1;33m)\u001b[0m\u001b[1;33m}\u001b[0m\u001b[1;33m)\u001b[0m\u001b[1;33m\u001b[0m\u001b[1;33m\u001b[0m\u001b[0m\n\u001b[1;32m---> 72\u001b[1;33m         \u001b[1;32mreturn\u001b[0m \u001b[0mf\u001b[0m\u001b[1;33m(\u001b[0m\u001b[1;33m**\u001b[0m\u001b[0mkwargs\u001b[0m\u001b[1;33m)\u001b[0m\u001b[1;33m\u001b[0m\u001b[1;33m\u001b[0m\u001b[0m\n\u001b[0m\u001b[0;32m     73\u001b[0m     \u001b[1;32mreturn\u001b[0m \u001b[0minner_f\u001b[0m\u001b[1;33m\u001b[0m\u001b[1;33m\u001b[0m\u001b[0m\n\u001b[0;32m     74\u001b[0m \u001b[1;33m\u001b[0m\u001b[0m\n",
      "\u001b[1;32m~\\.conda\\envs\\ml_hse\\lib\\site-packages\\sklearn\\utils\\validation.py\u001b[0m in \u001b[0;36mcheck_array\u001b[1;34m(array, accept_sparse, accept_large_sparse, dtype, order, copy, force_all_finite, ensure_2d, allow_nd, ensure_min_samples, ensure_min_features, estimator)\u001b[0m\n\u001b[0;32m    596\u001b[0m                     \u001b[0marray\u001b[0m \u001b[1;33m=\u001b[0m \u001b[0marray\u001b[0m\u001b[1;33m.\u001b[0m\u001b[0mastype\u001b[0m\u001b[1;33m(\u001b[0m\u001b[0mdtype\u001b[0m\u001b[1;33m,\u001b[0m \u001b[0mcasting\u001b[0m\u001b[1;33m=\u001b[0m\u001b[1;34m\"unsafe\"\u001b[0m\u001b[1;33m,\u001b[0m \u001b[0mcopy\u001b[0m\u001b[1;33m=\u001b[0m\u001b[1;32mFalse\u001b[0m\u001b[1;33m)\u001b[0m\u001b[1;33m\u001b[0m\u001b[1;33m\u001b[0m\u001b[0m\n\u001b[0;32m    597\u001b[0m                 \u001b[1;32melse\u001b[0m\u001b[1;33m:\u001b[0m\u001b[1;33m\u001b[0m\u001b[1;33m\u001b[0m\u001b[0m\n\u001b[1;32m--> 598\u001b[1;33m                     \u001b[0marray\u001b[0m \u001b[1;33m=\u001b[0m \u001b[0mnp\u001b[0m\u001b[1;33m.\u001b[0m\u001b[0masarray\u001b[0m\u001b[1;33m(\u001b[0m\u001b[0marray\u001b[0m\u001b[1;33m,\u001b[0m \u001b[0morder\u001b[0m\u001b[1;33m=\u001b[0m\u001b[0morder\u001b[0m\u001b[1;33m,\u001b[0m \u001b[0mdtype\u001b[0m\u001b[1;33m=\u001b[0m\u001b[0mdtype\u001b[0m\u001b[1;33m)\u001b[0m\u001b[1;33m\u001b[0m\u001b[1;33m\u001b[0m\u001b[0m\n\u001b[0m\u001b[0;32m    599\u001b[0m             \u001b[1;32mexcept\u001b[0m \u001b[0mComplexWarning\u001b[0m\u001b[1;33m:\u001b[0m\u001b[1;33m\u001b[0m\u001b[1;33m\u001b[0m\u001b[0m\n\u001b[0;32m    600\u001b[0m                 raise ValueError(\"Complex data not supported\\n\"\n",
      "\u001b[1;32m~\\AppData\\Roaming\\Python\\Python38\\site-packages\\numpy\\core\\_asarray.py\u001b[0m in \u001b[0;36masarray\u001b[1;34m(a, dtype, order)\u001b[0m\n\u001b[0;32m     83\u001b[0m \u001b[1;33m\u001b[0m\u001b[0m\n\u001b[0;32m     84\u001b[0m     \"\"\"\n\u001b[1;32m---> 85\u001b[1;33m     \u001b[1;32mreturn\u001b[0m \u001b[0marray\u001b[0m\u001b[1;33m(\u001b[0m\u001b[0ma\u001b[0m\u001b[1;33m,\u001b[0m \u001b[0mdtype\u001b[0m\u001b[1;33m,\u001b[0m \u001b[0mcopy\u001b[0m\u001b[1;33m=\u001b[0m\u001b[1;32mFalse\u001b[0m\u001b[1;33m,\u001b[0m \u001b[0morder\u001b[0m\u001b[1;33m=\u001b[0m\u001b[0morder\u001b[0m\u001b[1;33m)\u001b[0m\u001b[1;33m\u001b[0m\u001b[1;33m\u001b[0m\u001b[0m\n\u001b[0m\u001b[0;32m     86\u001b[0m \u001b[1;33m\u001b[0m\u001b[0m\n\u001b[0;32m     87\u001b[0m \u001b[1;33m\u001b[0m\u001b[0m\n",
      "\u001b[1;31mValueError\u001b[0m: could not convert string to float: 'It is a well known fact that people today have a lot of problems with their health because of the use of computers and other technologied devices. Some of this problems are very serious, some of them can be easily reduced. \\r\\n\\r\\nThe most common problem for people nowadays is the lack of mobility. We spend a great part of the day sitting by our computers. People who work sit near the computer almost 8 hours without even getting up. Even students who are supposed to be healthy and active suffer from this problem. To reduce this issue, special exercises brakes can be introduced in offices, maybe even in universities and schools. It is crucial to have some resting time during work and studying, but it’s also important for this break to be helpful physically and mentaly. And of course let’s not forget about the healthy diet a person should have and the importance of staying hidrated. \\r\\n\\r\\nAnother problem that is discussed a lot today is peoples’ dependence on mobile phones and the internet.  A lot of my friends agree that they can’t live without  their phones. The constant need of communication and information stays behind that. However, I think that sometimes we need to have some tome for ourselves. Therefore one of the ways of dealing with this particular problem would be meditation. It is an easy way to relax and ger yourself together, clear  your head from all the unnecessary information that comes to us everyday. In my opinion, this is a great habbit everybody can develop. \\r\\n\\r\\nTo conclude, I can say that despite the fact that we live in a world  full of modern technology, we shouldn’t be lazy and we shouldn’t forget to take care of our personal health.\\r\\n'"
     ]
    }
   ],
   "source": [
    "knn.predict(test_x[feat])[0]"
   ]
  },
  {
   "cell_type": "markdown",
   "metadata": {},
   "source": [
    "### RF"
   ]
  },
  {
   "cell_type": "code",
   "execution_count": 58,
   "metadata": {},
   "outputs": [
    {
     "name": "stdout",
     "output_type": "stream",
     "text": [
      "         -----------Train data res------------\n",
      "\n",
      "              precision    recall  f1-score   support\n",
      "\n",
      "           2       0.93      0.93      0.93      2016\n",
      "           3       0.88      0.79      0.83      2257\n",
      "           4       0.87      0.99      0.93      2386\n",
      "           5       0.94      0.90      0.92      2441\n",
      "\n",
      "    accuracy                           0.90      9100\n",
      "   macro avg       0.90      0.90      0.90      9100\n",
      "weighted avg       0.90      0.90      0.90      9100\n",
      "\n",
      "Confusion matrix: \n",
      "\n",
      " [[1867  117    1   31]\n",
      " [ 145 1783  225  104]\n",
      " [   1   22 2358    5]\n",
      " [   3  115  114 2209]]\n",
      "\n",
      "       -----------Test data res------------\n",
      "\n",
      "              precision    recall  f1-score   support\n",
      "\n",
      "           2       0.50      0.25      0.33         8\n",
      "           3       0.83      0.46      0.59        76\n",
      "           4       0.91      0.99      0.95       587\n",
      "           5       0.00      0.00      0.00        17\n",
      "\n",
      "    accuracy                           0.90       688\n",
      "   macro avg       0.56      0.42      0.47       688\n",
      "weighted avg       0.87      0.90      0.88       688\n",
      "\n",
      "Confusion matrix: \n",
      "\n",
      " [[  2   2   4   0]\n",
      " [  2  35  39   0]\n",
      " [  0   5 580   2]\n",
      " [  0   0  17   0]]\n"
     ]
    }
   ],
   "source": [
    "get_results(RandomForestClassifier(max_depth=33, max_features='sqrt', min_samples_split=7, n_estimators=702),\n",
    "           df_gen[feature_cols],\n",
    "           df_gen['cls'],\n",
    "           test_x[feature_cols],\n",
    "           test_y)"
   ]
  },
  {
   "cell_type": "markdown",
   "metadata": {},
   "source": [
    "### XGB"
   ]
  },
  {
   "cell_type": "code",
   "execution_count": 62,
   "metadata": {},
   "outputs": [
    {
     "name": "stdout",
     "output_type": "stream",
     "text": [
      "         -----------Train data res------------\n",
      "\n"
     ]
    },
    {
     "name": "stderr",
     "output_type": "stream",
     "text": [
      "C:\\Users\\Konstantin\\.conda\\envs\\ml_hse\\lib\\site-packages\\xgboost\\sklearn.py:892: UserWarning: The use of label encoder in XGBClassifier is deprecated and will be removed in a future release. To remove this warning, do the following: 1) Pass option use_label_encoder=False when constructing XGBClassifier object; and 2) Encode your labels (y) as integers starting with 0, i.e. 0, 1, 2, ..., [num_class - 1].\n",
      "  warnings.warn(label_encoder_deprecation_msg, UserWarning)\n"
     ]
    },
    {
     "name": "stdout",
     "output_type": "stream",
     "text": [
      "[15:03:04] WARNING: C:/Users/Administrator/workspace/xgboost-win64_release_1.3.0/src/learner.cc:1061: Starting in XGBoost 1.3.0, the default evaluation metric used with the objective 'multi:softprob' was changed from 'merror' to 'mlogloss'. Explicitly set eval_metric if you'd like to restore the old behavior.\n",
      "[15:03:24] WARNING: C:/Users/Administrator/workspace/xgboost-win64_release_1.3.0/src/learner.cc:1061: Starting in XGBoost 1.3.0, the default evaluation metric used with the objective 'multi:softprob' was changed from 'merror' to 'mlogloss'. Explicitly set eval_metric if you'd like to restore the old behavior.\n",
      "[15:03:45] WARNING: C:/Users/Administrator/workspace/xgboost-win64_release_1.3.0/src/learner.cc:1061: Starting in XGBoost 1.3.0, the default evaluation metric used with the objective 'multi:softprob' was changed from 'merror' to 'mlogloss'. Explicitly set eval_metric if you'd like to restore the old behavior.\n",
      "[15:04:06] WARNING: C:/Users/Administrator/workspace/xgboost-win64_release_1.3.0/src/learner.cc:1061: Starting in XGBoost 1.3.0, the default evaluation metric used with the objective 'multi:softprob' was changed from 'merror' to 'mlogloss'. Explicitly set eval_metric if you'd like to restore the old behavior.\n",
      "[15:04:28] WARNING: C:/Users/Administrator/workspace/xgboost-win64_release_1.3.0/src/learner.cc:1061: Starting in XGBoost 1.3.0, the default evaluation metric used with the objective 'multi:softprob' was changed from 'merror' to 'mlogloss'. Explicitly set eval_metric if you'd like to restore the old behavior.\n",
      "[15:04:49] WARNING: C:/Users/Administrator/workspace/xgboost-win64_release_1.3.0/src/learner.cc:1061: Starting in XGBoost 1.3.0, the default evaluation metric used with the objective 'multi:softprob' was changed from 'merror' to 'mlogloss'. Explicitly set eval_metric if you'd like to restore the old behavior.\n",
      "[15:05:10] WARNING: C:/Users/Administrator/workspace/xgboost-win64_release_1.3.0/src/learner.cc:1061: Starting in XGBoost 1.3.0, the default evaluation metric used with the objective 'multi:softprob' was changed from 'merror' to 'mlogloss'. Explicitly set eval_metric if you'd like to restore the old behavior.\n",
      "[15:05:32] WARNING: C:/Users/Administrator/workspace/xgboost-win64_release_1.3.0/src/learner.cc:1061: Starting in XGBoost 1.3.0, the default evaluation metric used with the objective 'multi:softprob' was changed from 'merror' to 'mlogloss'. Explicitly set eval_metric if you'd like to restore the old behavior.\n",
      "[15:05:54] WARNING: C:/Users/Administrator/workspace/xgboost-win64_release_1.3.0/src/learner.cc:1061: Starting in XGBoost 1.3.0, the default evaluation metric used with the objective 'multi:softprob' was changed from 'merror' to 'mlogloss'. Explicitly set eval_metric if you'd like to restore the old behavior.\n",
      "[15:06:16] WARNING: C:/Users/Administrator/workspace/xgboost-win64_release_1.3.0/src/learner.cc:1061: Starting in XGBoost 1.3.0, the default evaluation metric used with the objective 'multi:softprob' was changed from 'merror' to 'mlogloss'. Explicitly set eval_metric if you'd like to restore the old behavior.\n",
      "              precision    recall  f1-score   support\n",
      "\n",
      "           2       0.93      0.92      0.93      2016\n",
      "           3       0.88      0.79      0.83      2257\n",
      "           4       0.87      0.99      0.93      2386\n",
      "           5       0.94      0.91      0.93      2441\n",
      "\n",
      "    accuracy                           0.91      9100\n",
      "   macro avg       0.91      0.90      0.90      9100\n",
      "weighted avg       0.91      0.91      0.90      9100\n",
      "\n",
      "Confusion matrix: \n",
      "\n",
      " [[1864  125    1   26]\n",
      " [ 146 1779  229  103]\n",
      " [   0   15 2366    5]\n",
      " [   4   95  113 2229]]\n",
      "\n",
      "       -----------Test data res------------\n",
      "\n",
      "[15:06:39] WARNING: C:/Users/Administrator/workspace/xgboost-win64_release_1.3.0/src/learner.cc:1061: Starting in XGBoost 1.3.0, the default evaluation metric used with the objective 'multi:softprob' was changed from 'merror' to 'mlogloss'. Explicitly set eval_metric if you'd like to restore the old behavior.\n",
      "              precision    recall  f1-score   support\n",
      "\n",
      "           2       0.50      0.25      0.33         8\n",
      "           3       0.87      0.43      0.58        76\n",
      "           4       0.90      0.99      0.95       587\n",
      "           5       0.00      0.00      0.00        17\n",
      "\n",
      "    accuracy                           0.90       688\n",
      "   macro avg       0.57      0.42      0.46       688\n",
      "weighted avg       0.87      0.90      0.87       688\n",
      "\n",
      "Confusion matrix: \n",
      "\n",
      " [[  2   2   4   0]\n",
      " [  2  33  41   0]\n",
      " [  0   3 582   2]\n",
      " [  0   0  17   0]]\n"
     ]
    }
   ],
   "source": [
    "get_results(xgb.XGBRFClassifier(colsample_bytree=0.4,\n",
    "                gamma=0.1,\n",
    "                learning_rate=0.3,\n",
    "                max_depth=12,\n",
    "                min_child_weight=1,\n",
    "                n_estimators=638,\n",
    "                reg_alpha=0,\n",
    "                reg_lambda=0.01,\n",
    "                subsample=1),\n",
    "           df_gen[feature_cols],\n",
    "           df_gen['cls'],\n",
    "           test_x[feature_cols],\n",
    "           test_y)"
   ]
  },
  {
   "cell_type": "markdown",
   "metadata": {},
   "source": [
    "### SVM"
   ]
  },
  {
   "cell_type": "code",
   "execution_count": 64,
   "metadata": {},
   "outputs": [
    {
     "name": "stdout",
     "output_type": "stream",
     "text": [
      "         -----------Train data res------------\n",
      "\n",
      "              precision    recall  f1-score   support\n",
      "\n",
      "           2       0.80      0.80      0.80      2016\n",
      "           3       0.70      0.63      0.67      2257\n",
      "           4       0.88      0.99      0.93      2386\n",
      "           5       0.88      0.85      0.87      2441\n",
      "\n",
      "    accuracy                           0.82      9100\n",
      "   macro avg       0.82      0.82      0.82      9100\n",
      "weighted avg       0.82      0.82      0.82      9100\n",
      "\n",
      "Confusion matrix: \n",
      "\n",
      " [[1605  340    2   69]\n",
      " [ 401 1432  222  202]\n",
      " [   3   10 2369    4]\n",
      " [   5  261   98 2077]]\n",
      "\n",
      "       -----------Test data res------------\n",
      "\n",
      "              precision    recall  f1-score   support\n",
      "\n",
      "           2       0.43      0.38      0.40         8\n",
      "           3       0.70      0.09      0.16        76\n",
      "           4       0.87      1.00      0.93       587\n",
      "           5       0.00      0.00      0.00        17\n",
      "\n",
      "    accuracy                           0.86       688\n",
      "   macro avg       0.50      0.37      0.37       688\n",
      "weighted avg       0.83      0.86      0.82       688\n",
      "\n",
      "Confusion matrix: \n",
      "\n",
      " [[  3   1   4   0]\n",
      " [  4   7  65   0]\n",
      " [  0   2 585   0]\n",
      " [  0   0  17   0]]\n"
     ]
    },
    {
     "name": "stderr",
     "output_type": "stream",
     "text": [
      "C:\\Users\\Konstantin\\.conda\\envs\\ml_hse\\lib\\site-packages\\sklearn\\metrics\\_classification.py:1221: UndefinedMetricWarning: Precision and F-score are ill-defined and being set to 0.0 in labels with no predicted samples. Use `zero_division` parameter to control this behavior.\n",
      "  _warn_prf(average, modifier, msg_start, len(result))\n"
     ]
    }
   ],
   "source": [
    "get_results(SVC(C=5,\n",
    "                class_weight='balanced',\n",
    "                decision_function_shape='ovr',\n",
    "                gamma='scale',\n",
    "                kernel='rbf'),\n",
    "           df_gen[feature_cols],\n",
    "           df_gen['cls'],\n",
    "           test_x[feature_cols],\n",
    "           test_y)"
   ]
  },
  {
   "cell_type": "code",
   "execution_count": 111,
   "metadata": {},
   "outputs": [],
   "source": [
    "from sklearn.ensemble import StackingClassifier, VotingClassifier"
   ]
  },
  {
   "cell_type": "code",
   "execution_count": 92,
   "metadata": {},
   "outputs": [],
   "source": [
    "estimators = [('knn', KNeighborsClassifier(n_neighbors=7, p=1, weights='distance')),\n",
    "              ('rf', RandomForestClassifier(max_depth=33, max_features='sqrt', min_samples_split=7, n_estimators=702)),\n",
    "              ('xgb', xgb.XGBRFClassifier(colsample_bytree=0.4,\n",
    "                gamma=0.1,\n",
    "                learning_rate=0.3,\n",
    "                max_depth=12,\n",
    "                min_child_weight=1,\n",
    "                n_estimators=638,\n",
    "                reg_alpha=0,\n",
    "                reg_lambda=0.01,\n",
    "                subsample=1)),\n",
    "              ('svm', SVC(C=5,\n",
    "                class_weight='balanced',\n",
    "                decision_function_shape='ovr',\n",
    "                gamma='scale',\n",
    "                kernel='rbf'))]\n",
    "clf = StackingClassifier(estimators=estimators, final_estimator= RandomForestClassifier(), n_jobs=-1)"
   ]
  },
  {
   "cell_type": "code",
   "execution_count": 93,
   "metadata": {},
   "outputs": [
    {
     "name": "stdout",
     "output_type": "stream",
     "text": [
      "         -----------Train data res------------\n",
      "\n"
     ]
    },
    {
     "name": "stderr",
     "output_type": "stream",
     "text": [
      "C:\\Users\\Konstantin\\.conda\\envs\\ml_hse\\lib\\site-packages\\joblib\\externals\\loky\\process_executor.py:688: UserWarning: A worker stopped while some jobs were given to the executor. This can be caused by a too short worker timeout or by a memory leak.\n",
      "  warnings.warn(\n"
     ]
    },
    {
     "name": "stdout",
     "output_type": "stream",
     "text": [
      "              precision    recall  f1-score   support\n",
      "\n",
      "           2       0.93      0.94      0.93      2016\n",
      "           3       0.91      0.80      0.85      2257\n",
      "           4       0.88      0.99      0.93      2386\n",
      "           5       0.96      0.92      0.94      2441\n",
      "\n",
      "    accuracy                           0.92      9100\n",
      "   macro avg       0.92      0.91      0.91      9100\n",
      "weighted avg       0.92      0.92      0.91      9100\n",
      "\n",
      "Confusion matrix: \n",
      "\n",
      " [[1894  101    2   19]\n",
      " [ 135 1810  234   78]\n",
      " [   0   10 2370    6]\n",
      " [  12   74  102 2253]]\n",
      "\n",
      "       -----------Test data res------------\n",
      "\n",
      "              precision    recall  f1-score   support\n",
      "\n",
      "           2       0.50      0.25      0.33         8\n",
      "           3       0.83      0.20      0.32        76\n",
      "           4       0.88      0.99      0.94       587\n",
      "           5       0.50      0.12      0.19        17\n",
      "\n",
      "    accuracy                           0.88       688\n",
      "   macro avg       0.68      0.39      0.44       688\n",
      "weighted avg       0.86      0.88      0.84       688\n",
      "\n",
      "Confusion matrix: \n",
      "\n",
      " [[  2   2   4   0]\n",
      " [  2  15  59   0]\n",
      " [  0   1 584   2]\n",
      " [  0   0  15   2]]\n"
     ]
    }
   ],
   "source": [
    "get_results(clf,\n",
    "           df_gen[feature_cols],\n",
    "           df_gen['cls'],\n",
    "           test_x[feature_cols],\n",
    "           test_y)"
   ]
  },
  {
   "cell_type": "code",
   "execution_count": 106,
   "metadata": {},
   "outputs": [],
   "source": [
    "estimators = [('knn', KNeighborsClassifier(n_neighbors=7, p=1, weights='distance')),\n",
    "              ('rf', RandomForestClassifier(max_depth=33, max_features='sqrt', min_samples_split=7, n_estimators=702)),\n",
    "              ('xgb', xgb.XGBRFClassifier(colsample_bytree=0.4,\n",
    "                gamma=0.1,\n",
    "                learning_rate=0.3,\n",
    "                max_depth=12,\n",
    "                min_child_weight=1,\n",
    "                n_estimators=638,\n",
    "                reg_alpha=0,\n",
    "                reg_lambda=0.01,\n",
    "                subsample=1)),\n",
    "              ('svm', SVC(C=5,\n",
    "                class_weight='balanced',\n",
    "                decision_function_shape='ovr',\n",
    "                gamma='scale',\n",
    "                kernel='rbf',\n",
    "                probability = True))]\n",
    "clf = VotingClassifier(estimators=estimators, voting='soft', n_jobs=-1)"
   ]
  },
  {
   "cell_type": "code",
   "execution_count": 107,
   "metadata": {},
   "outputs": [
    {
     "name": "stdout",
     "output_type": "stream",
     "text": [
      "         -----------Train data res------------\n",
      "\n",
      "              precision    recall  f1-score   support\n",
      "\n",
      "           2       0.86      0.87      0.86      2016\n",
      "           3       0.81      0.70      0.75      2257\n",
      "           4       0.88      0.99      0.93      2386\n",
      "           5       0.90      0.90      0.90      2441\n",
      "\n",
      "    accuracy                           0.87      9100\n",
      "   macro avg       0.86      0.86      0.86      9100\n",
      "weighted avg       0.86      0.87      0.86      9100\n",
      "\n",
      "Confusion matrix: \n",
      "\n",
      " [[1752  190    0   74]\n",
      " [ 278 1579  225  175]\n",
      " [   3   19 2358    6]\n",
      " [   3  151   96 2191]]\n",
      "\n",
      "       -----------Test data res------------\n",
      "\n",
      "              precision    recall  f1-score   support\n",
      "\n",
      "           2       0.40      0.25      0.31         8\n",
      "           3       0.89      0.45      0.60        76\n",
      "           4       0.91      0.99      0.95       587\n",
      "           5       0.00      0.00      0.00        17\n",
      "\n",
      "    accuracy                           0.90       688\n",
      "   macro avg       0.55      0.42      0.46       688\n",
      "weighted avg       0.88      0.90      0.88       688\n",
      "\n",
      "Confusion matrix: \n",
      "\n",
      " [[  2   2   4   0]\n",
      " [  3  34  39   0]\n",
      " [  0   2 584   1]\n",
      " [  0   0  17   0]]\n"
     ]
    }
   ],
   "source": [
    "get_results(clf,\n",
    "           df_gen[feature_cols],\n",
    "           df_gen['cls'],\n",
    "           test_x[feature_cols],\n",
    "           test_y)"
   ]
  },
  {
   "cell_type": "markdown",
   "metadata": {},
   "source": [
    "### Binary classification"
   ]
  },
  {
   "cell_type": "code",
   "execution_count": 10,
   "metadata": {},
   "outputs": [],
   "source": [
    "def prp2bin_clf(train_data, test_y, cls):\n",
    "    train_data_res = train_data.copy()\n",
    "    test_y_res = test_y.copy()\n",
    "    \n",
    "    train_data_res.loc[train_data_res['cls'] != cls, 'cls'] = 0\n",
    "    train_data_res.loc[train_data_res['cls'] == cls, 'cls'] = 1\n",
    "    \n",
    "    test_y_res.loc[test_y_res != cls] = 0\n",
    "    test_y_res.loc[test_y_res == cls] = 1\n",
    "    \n",
    "    return train_data_res, test_y_res"
   ]
  },
  {
   "cell_type": "code",
   "execution_count": 24,
   "metadata": {
    "scrolled": true
   },
   "outputs": [],
   "source": [
    "data_dict = {}\n",
    "\n",
    "data_dict[2] = prp2bin_clf(df_gen, test_y, 2)\n",
    "data_dict[3] = prp2bin_clf(df_gen, test_y, 3)\n",
    "data_dict[4] = prp2bin_clf(df_gen, test_y, 4)\n",
    "data_dict[5] = prp2bin_clf(df_gen, test_y, 5)\n"
   ]
  },
  {
   "cell_type": "code",
   "execution_count": 28,
   "metadata": {},
   "outputs": [],
   "source": [
    "clf_dict = {}\n",
    "\n",
    "clf_dict[2] = RandomForestClassifier(max_depth=30, max_features='sqrt', min_samples_leaf=2,\n",
    "                                     min_samples_split=6, n_estimators=757)\n",
    "clf_dict[3] = SVC(C=990, class_weight='balanced', decision_function_shape='ovo', gamma=0.1,\n",
    "                  max_iter=10000)\n",
    "clf_dict[4] = KNeighborsClassifier(n_neighbors=20, weights='distance')\n",
    "clf_dict[5] = KNeighborsClassifier(n_neighbors=7, p=1, weights='distance')"
   ]
  },
  {
   "cell_type": "code",
   "execution_count": 29,
   "metadata": {},
   "outputs": [],
   "source": [
    "class Bin_clf():\n",
    "    # train_acc: 2 = 89, 3 = 75, 4 = 96, 5 = 86\n",
    "    \n",
    "    def __init__(self, train_data, test_x, test_y, clf_dict):\n",
    "        self.clf_2 = clf_dict[2]\n",
    "        self.clf_3 = clf_dict[3]\n",
    "        self.clf_4 = clf_dict[4]\n",
    "        self.clf_5 = clf_dict[5]\n",
    "        \n",
    "        self.feature_cols = [i for i in train_data.columns if i not in ['cls', 'text']]\n",
    "        \n",
    "        def prp2bin_clf(train_data, test_y, cls):\n",
    "            train_data_res = train_data.copy()\n",
    "            test_y_res = test_y.copy()\n",
    "    \n",
    "            train_data_res.loc[train_data_res['cls'] != cls, 'cls'] = 0\n",
    "            train_data_res.loc[train_data_res['cls'] == cls, 'cls'] = 1\n",
    "    \n",
    "            test_y_res.loc[test_y_res != cls] = 0\n",
    "            test_y_res.loc[test_y_res == cls] = 1\n",
    "    \n",
    "            return train_data_res, test_y_res\n",
    "        \n",
    "        self.train_2, self.test_y_2 = prp2bin_clf(train_data, test_y, 2)\n",
    "        self.train_3, self.test_y_3 = prp2bin_clf(train_data, test_y, 3)\n",
    "        self.train_4, self.test_y_4 = prp2bin_clf(train_data, test_y, 4)\n",
    "        self.train_5, self.test_y_5 = prp2bin_clf(train_data, test_y, 5)\n",
    "        \n",
    "        self.train_x_2 = self.train_2[self.feature_cols]\n",
    "        self.train_x_3 = self.train_3[self.feature_cols]\n",
    "        self.train_x_4 = self.train_4[self.feature_cols]\n",
    "        self.train_x_5 = self.train_5[self.feature_cols]\n",
    "        \n",
    "        self.train_y_2 = self.train_2.cls\n",
    "        self.train_y_3 = self.train_3.cls\n",
    "        self.train_y_4 = self.train_4.cls\n",
    "        self.train_y_5 = self.train_5.cls\n",
    "        \n",
    "        self.test_x = test_x[self.feature_cols]\n",
    "        self.test_y = test_y\n",
    "    \n",
    "    def fit(self):\n",
    "        self.clf_2.fit(self.train_x_2, self.train_y_2)\n",
    "        self.clf_3.fit(self.train_x_3, self.train_y_3)\n",
    "        self.clf_4.fit(self.train_x_4, self.train_y_4)\n",
    "        self.clf_5.fit(self.train_x_5, self.train_y_5)\n",
    "    \n",
    "    def predict(self):\n",
    "        pred_y_4_df = pd.DataFrame(self.clf_4.predict(self.test_x), index=self.test_x.index, columns=['res',])\n",
    "        res = pred_y_4_df[pred_y_4_df['res'].isin([1,])]\n",
    "        res = res.replace(1, 4)\n",
    "        test_x_2 = self.test_x.loc[pred_y_4_df[pred_y_4_df['res'].isin([0,])].index]\n",
    "        \n",
    "        pred_y_2_df = pd.DataFrame(self.clf_2.predict(test_x_2), index=test_x_2.index, columns=['res',])\n",
    "        res = pd.concat([res, pred_y_2_df[pred_y_2_df['res'].isin([1,])]], ignore_index=False)\n",
    "        res = res.replace(1, 2)\n",
    "        test_x_5 = test_x_2.loc[pred_y_2_df[pred_y_2_df['res'].isin([0,])].index]\n",
    "        \n",
    "        pred_y_5_df = pd.DataFrame(self.clf_5.predict(test_x_5), index=test_x_5.index, columns=['res',])\n",
    "        res = pd.concat([res, pred_y_5_df[pred_y_5_df['res'].isin([1,])]], ignore_index=False)\n",
    "        res = res.replace(1, 5)\n",
    "        \n",
    "        rest = pred_y_5_df[pred_y_5_df['res'].isin([0,])]\n",
    "        pred_y_3_df = pd.DataFrame([3 for i in range(rest.index.shape[0])], index=rest.index, columns=['res',])\n",
    "        res = pd.concat([res, pred_y_3_df], ignore_index=False)\n",
    "        \n",
    "        return res"
   ]
  },
  {
   "cell_type": "code",
   "execution_count": 108,
   "metadata": {},
   "outputs": [],
   "source": [
    "bin_clf = Bin_clf(df_gen, test_x, test_y, clf_dict)"
   ]
  },
  {
   "cell_type": "code",
   "execution_count": 109,
   "metadata": {
    "scrolled": true
   },
   "outputs": [
    {
     "name": "stderr",
     "output_type": "stream",
     "text": [
      "C:\\Users\\Konstantin\\.conda\\envs\\ml_hse\\lib\\site-packages\\sklearn\\svm\\_base.py:246: ConvergenceWarning: Solver terminated early (max_iter=10000).  Consider pre-processing your data with StandardScaler or MinMaxScaler.\n",
      "  warnings.warn('Solver terminated early (max_iter=%i).'\n"
     ]
    }
   ],
   "source": [
    "bin_clf.fit()"
   ]
  },
  {
   "cell_type": "code",
   "execution_count": 125,
   "metadata": {
    "scrolled": true
   },
   "outputs": [
    {
     "data": {
      "text/plain": [
       "4    632\n",
       "3     46\n",
       "5      6\n",
       "2      4\n",
       "Name: res, dtype: int64"
      ]
     },
     "execution_count": 125,
     "metadata": {},
     "output_type": "execute_result"
    }
   ],
   "source": [
    "pred_y_bin = bin_clf.predict()\n",
    "pred_y_bin.res.value_counts()"
   ]
  },
  {
   "cell_type": "code",
   "execution_count": 127,
   "metadata": {},
   "outputs": [
    {
     "name": "stdout",
     "output_type": "stream",
     "text": [
      "              precision    recall  f1-score   support\n",
      "\n",
      "           2       0.00      0.00      0.00         8\n",
      "           3       0.15      0.09      0.11        76\n",
      "           4       0.86      0.92      0.89       587\n",
      "           5       0.00      0.00      0.00        17\n",
      "\n",
      "    accuracy                           0.80       688\n",
      "   macro avg       0.25      0.25      0.25       688\n",
      "weighted avg       0.75      0.80      0.77       688\n",
      "\n",
      "[[  0   0   4   0]\n",
      " [  2   7  37   0]\n",
      " [  6  68 541  17]\n",
      " [  0   1   5   0]]\n"
     ]
    }
   ],
   "source": [
    "print(classification_report(test_y, pred_y_bin))\n",
    "print(confusion_matrix(pred_y_bin, test_y))"
   ]
  },
  {
   "cell_type": "markdown",
   "metadata": {},
   "source": [
    "## W2V"
   ]
  },
  {
   "cell_type": "code",
   "execution_count": 11,
   "metadata": {},
   "outputs": [],
   "source": [
    "with shelve.open('data\\\\w2v_wiki', flag='r') as w2v_file:\n",
    "    w2v = w2v_file['w2v']"
   ]
  },
  {
   "cell_type": "code",
   "execution_count": 12,
   "metadata": {},
   "outputs": [],
   "source": [
    "class W2V( BaseEstimator, TransformerMixin ):\n",
    "    def __init__( self):\n",
    "        with shelve.open('data\\\\w2v_wiki', flag='r') as w2v_file:\n",
    "            self.w2v = w2v_file['w2v']\n",
    "        self.index2word_set = set(self.w2v.index2word)\n",
    "        \n",
    "    def fit( self, X, y = None ):\n",
    "        return self \n",
    "    \n",
    "    def text_to_words(self, text):\n",
    "        model = Model(r'D:\\hse_iot\\VKR\\my_inspector\\inspector\\app\\data\\models\\english-partut-ud-2.3-181115.udpipe')\n",
    "        gf = get_feature_values.GetFeatures(model)\n",
    "        gf.get_info(text)\n",
    "        \n",
    "        words = []\n",
    "        for sent in gf.sentences:\n",
    "            sent_list = []\n",
    "            for word in sent:\n",
    "                lemma = word.get('lemma')\n",
    "                if re.sub('[^a-zA-Zа-яА-яёЁ]', '', lemma) != '':\n",
    "                    sent_list.append(lemma)\n",
    "            words.extend(sent_list)\n",
    "        return words\n",
    "    \n",
    "    def text_to_vec(self, text):\n",
    "        text_vec = np.zeros((self.w2v.vector_size,), dtype=\"float32\")\n",
    "        n_words = 0\n",
    "        \n",
    "        for word in self.text_to_words(text):\n",
    "            if word in self.index2word_set:\n",
    "                n_words = n_words + 1\n",
    "                text_vec = np.add(text_vec, self.w2v[word]) \n",
    "        \n",
    "        if n_words != 0:\n",
    "            text_vec /= n_words\n",
    "        return text_vec\n",
    "    \n",
    "    def transform( self, X, y = None ):\n",
    "        w2v_vectors = [self.text_to_vec(text) for text in X.text]\n",
    "        w2v_vectors_df = pd.DataFrame([i for i in w2v_vectors], columns=['w2v_' + str(i) for i in range(w2v_vectors[0].shape[0])])\n",
    "        w2v_vectors_df.index = X.index\n",
    "        X = X.join(w2v_vectors_df)\n",
    "    \n",
    "        return X.drop('text', axis=1)"
   ]
  },
  {
   "cell_type": "code",
   "execution_count": 13,
   "metadata": {},
   "outputs": [],
   "source": [
    "clf_W2V = Pipeline(steps=[('data_W2V', W2V()),\n",
    "                          ('clf', KNeighborsClassifier(n_neighbors=7, p=1, weights='distance'))])"
   ]
  },
  {
   "cell_type": "code",
   "execution_count": 14,
   "metadata": {},
   "outputs": [],
   "source": [
    "feature_cols = [i for i in df_gen.columns if i not in ['cls',]]"
   ]
  },
  {
   "cell_type": "code",
   "execution_count": 15,
   "metadata": {},
   "outputs": [
    {
     "name": "stdout",
     "output_type": "stream",
     "text": [
      "         -----------Train data res------------\n",
      "\n",
      "              precision    recall  f1-score   support\n",
      "\n",
      "           2       0.81      0.85      0.83      2016\n",
      "           3       0.77      0.62      0.69      2257\n",
      "           4       0.88      0.98      0.93      2386\n",
      "           5       0.86      0.88      0.87      2441\n",
      "\n",
      "    accuracy                           0.84      9100\n",
      "   macro avg       0.83      0.84      0.83      9100\n",
      "weighted avg       0.83      0.84      0.83      9100\n",
      "\n",
      "Confusion matrix: \n",
      "\n",
      " [[1721  212    0   83]\n",
      " [ 384 1400  222  251]\n",
      " [   5   27 2349    5]\n",
      " [  12  183   87 2159]]\n",
      "\n",
      "       -----------Test data res------------\n",
      "\n",
      "              precision    recall  f1-score   support\n",
      "\n",
      "           2       0.33      0.25      0.29         8\n",
      "           3       0.84      0.50      0.63        76\n",
      "           4       0.92      0.99      0.95       587\n",
      "           5       0.83      0.29      0.43        17\n",
      "\n",
      "    accuracy                           0.91       688\n",
      "   macro avg       0.73      0.51      0.58       688\n",
      "weighted avg       0.90      0.91      0.90       688\n",
      "\n",
      "Confusion matrix: \n",
      "\n",
      " [[  2   2   4   0]\n",
      " [  4  38  34   0]\n",
      " [  0   5 581   1]\n",
      " [  0   0  12   5]]\n"
     ]
    }
   ],
   "source": [
    "get_results(clf_W2V,\n",
    "           df_gen[feature_cols],\n",
    "           df_gen['cls'],\n",
    "           test_x[feature_cols],\n",
    "           test_y)"
   ]
  },
  {
   "cell_type": "code",
   "execution_count": 16,
   "metadata": {},
   "outputs": [
    {
     "data": {
      "text/plain": [
       "999999"
      ]
     },
     "execution_count": 16,
     "metadata": {},
     "output_type": "execute_result"
    }
   ],
   "source": [
    "len(clf_W2V.named_steps.data_W2V.index2word_set)"
   ]
  },
  {
   "cell_type": "markdown",
   "metadata": {},
   "source": [
    "### Bin_clf_W2V"
   ]
  },
  {
   "cell_type": "code",
   "execution_count": 17,
   "metadata": {},
   "outputs": [],
   "source": [
    "W2V_transformer = W2V()"
   ]
  },
  {
   "cell_type": "code",
   "execution_count": 23,
   "metadata": {},
   "outputs": [],
   "source": [
    "train_x_w2V = W2V_transformer.transform(df_gen[feature_cols])"
   ]
  },
  {
   "cell_type": "code",
   "execution_count": 26,
   "metadata": {},
   "outputs": [],
   "source": [
    "test_x_w2V = W2V_transformer.transform(test_x)"
   ]
  },
  {
   "cell_type": "code",
   "execution_count": 27,
   "metadata": {},
   "outputs": [],
   "source": [
    "clf_dict = {}\n",
    "\n",
    "clf_dict[2] = RandomForestClassifier(max_depth=30, max_features='sqrt', min_samples_leaf=2,\n",
    "                                     min_samples_split=6, n_estimators=757)\n",
    "clf_dict[3] = SVC(C=990, class_weight='balanced', decision_function_shape='ovo', gamma=0.1,\n",
    "                  max_iter=10000)\n",
    "clf_dict[4] = KNeighborsClassifier(n_neighbors=20, weights='distance')\n",
    "clf_dict[5] = KNeighborsClassifier(n_neighbors=7, p=1, weights='distance')"
   ]
  },
  {
   "cell_type": "code",
   "execution_count": 34,
   "metadata": {},
   "outputs": [],
   "source": [
    "bin_clf = Bin_clf(train_x_w2V.join(train_y), test_x_w2V, test_y, clf_dict)"
   ]
  },
  {
   "cell_type": "code",
   "execution_count": 35,
   "metadata": {
    "scrolled": true
   },
   "outputs": [
    {
     "name": "stderr",
     "output_type": "stream",
     "text": [
      "C:\\Users\\Konstantin\\.conda\\envs\\ml_hse\\lib\\site-packages\\sklearn\\svm\\_base.py:246: ConvergenceWarning: Solver terminated early (max_iter=10000).  Consider pre-processing your data with StandardScaler or MinMaxScaler.\n",
      "  warnings.warn('Solver terminated early (max_iter=%i).'\n"
     ]
    }
   ],
   "source": [
    "bin_clf.fit()"
   ]
  },
  {
   "cell_type": "code",
   "execution_count": 36,
   "metadata": {
    "scrolled": true
   },
   "outputs": [
    {
     "data": {
      "text/plain": [
       "4.0    584\n",
       "3.0    101\n",
       "5.0      3\n",
       "Name: res, dtype: int64"
      ]
     },
     "execution_count": 36,
     "metadata": {},
     "output_type": "execute_result"
    }
   ],
   "source": [
    "pred_y_bin_w2v = bin_clf.predict()\n",
    "pred_y_bin_w2v.res.value_counts()"
   ]
  },
  {
   "cell_type": "code",
   "execution_count": 37,
   "metadata": {},
   "outputs": [
    {
     "name": "stdout",
     "output_type": "stream",
     "text": [
      "              precision    recall  f1-score   support\n",
      "\n",
      "           2       0.00      0.00      0.00         8\n",
      "           3       0.12      0.16      0.14        76\n",
      "           4       0.86      0.85      0.85       587\n",
      "           5       0.00      0.00      0.00        17\n",
      "\n",
      "    accuracy                           0.74       688\n",
      "   macro avg       0.24      0.25      0.25       688\n",
      "weighted avg       0.74      0.74      0.74       688\n",
      "\n",
      "[[  0   0   0   0]\n",
      " [  3  12  84   2]\n",
      " [  5  64 500  15]\n",
      " [  0   0   3   0]]\n"
     ]
    },
    {
     "name": "stderr",
     "output_type": "stream",
     "text": [
      "C:\\Users\\Konstantin\\.conda\\envs\\ml_hse\\lib\\site-packages\\sklearn\\metrics\\_classification.py:1221: UndefinedMetricWarning: Precision and F-score are ill-defined and being set to 0.0 in labels with no predicted samples. Use `zero_division` parameter to control this behavior.\n",
      "  _warn_prf(average, modifier, msg_start, len(result))\n"
     ]
    }
   ],
   "source": [
    "print(classification_report(test_y, pred_y_bin_w2v))\n",
    "print(confusion_matrix(pred_y_bin_w2v, test_y))"
   ]
  },
  {
   "cell_type": "code",
   "execution_count": null,
   "metadata": {},
   "outputs": [],
   "source": []
  },
  {
   "cell_type": "code",
   "execution_count": null,
   "metadata": {},
   "outputs": [],
   "source": []
  }
 ],
 "metadata": {
  "kernelspec": {
   "display_name": "Python 3",
   "language": "python",
   "name": "python3"
  },
  "language_info": {
   "codemirror_mode": {
    "name": "ipython",
    "version": 3
   },
   "file_extension": ".py",
   "mimetype": "text/x-python",
   "name": "python",
   "nbconvert_exporter": "python",
   "pygments_lexer": "ipython3",
   "version": "3.8.5"
  }
 },
 "nbformat": 4,
 "nbformat_minor": 4
}
